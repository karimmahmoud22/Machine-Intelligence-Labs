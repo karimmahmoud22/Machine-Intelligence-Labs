{
 "cells": [
  {
   "cell_type": "markdown",
   "metadata": {},
   "source": [
    "# Python Hello World"
   ]
  },
  {
   "cell_type": "code",
   "execution_count": 2,
   "metadata": {},
   "outputs": [
    {
     "name": "stdout",
     "output_type": "stream",
     "text": [
      "Hello World\n",
      "Hello World\n",
      "Hello 1 True\n"
     ]
    }
   ],
   "source": [
    "print(\"Hello World\")\n",
    "print(\"Hello\", \"World\")\n",
    "print(\"Hello\", 1, True)"
   ]
  },
  {
   "cell_type": "code",
   "execution_count": 3,
   "metadata": {},
   "outputs": [],
   "source": [
    "x=\"Good\""
   ]
  },
  {
   "cell_type": "code",
   "execution_count": 4,
   "metadata": {},
   "outputs": [
    {
     "name": "stdout",
     "output_type": "stream",
     "text": [
      "Good Bye\n"
     ]
    }
   ],
   "source": [
    "print(x, \"Bye\")"
   ]
  },
  {
   "cell_type": "markdown",
   "metadata": {},
   "source": [
    "# This is Markdown\n",
    "It can be used for explanations"
   ]
  },
  {
   "cell_type": "code",
   "execution_count": 5,
   "metadata": {},
   "outputs": [
    {
     "name": "stdout",
     "output_type": "stream",
     "text": [
      "x = 1\n"
     ]
    }
   ],
   "source": [
    "#This is a comment\n",
    "#Below is how to define a variable\n",
    "x=1\n",
    "print('x =',x)"
   ]
  },
  {
   "cell_type": "code",
   "execution_count": 6,
   "metadata": {},
   "outputs": [
    {
     "data": {
      "text/plain": [
       "'\\nThis is a multiline comment (and a string too :D)\\nUseful for long documentation\\n'"
      ]
     },
     "execution_count": 6,
     "metadata": {},
     "output_type": "execute_result"
    }
   ],
   "source": [
    "\"\"\"\n",
    "This is a multiline comment (and a string too :D)\n",
    "Useful for long documentation\n",
    "\"\"\""
   ]
  },
  {
   "cell_type": "markdown",
   "metadata": {},
   "source": [
    "## Python is Dynamically typed and Strong Typed"
   ]
  },
  {
   "cell_type": "code",
   "execution_count": 7,
   "metadata": {},
   "outputs": [
    {
     "name": "stdout",
     "output_type": "stream",
     "text": [
      "x = 1 \t\t\t=> with type <class 'int'>\n",
      "x = 2.5 \t\t=> with type <class 'float'>\n",
      "x = 1.1e+18 \t\t=> with type <class 'float'>\n",
      "x = True \t\t=> with type <class 'bool'>\n",
      "x = Hello World \t=> with type <class 'str'>\n",
      "x = \"Hello World\" \t=> with type <class 'str'>\n",
      "x = (1+2j) \t\t=> with type <class 'complex'>\n",
      "\n",
      "x = [1, 2, 3] \t\t=> with type <class 'list'>\n",
      "x = (1, 2, 3) \t\t=> with type <class 'tuple'>\n",
      "x = (1,) \t\t=> with type <class 'tuple'>\n",
      "x = {1, 2, 3} \t\t=> with type <class 'set'>\n",
      "x = {'a': 1, 'b': 2, 'c': 3} \t\t=> with type <class 'dict'>\n",
      "x = None \t\t=> with type <class 'NoneType'>\n"
     ]
    }
   ],
   "source": [
    "#Variables can change types dynamically\n",
    "x=1\n",
    "print('x =', x, '\\t\\t\\t=> with type', type(x))\n",
    "\n",
    "x=2.5\n",
    "print('x =', x, '\\t\\t=> with type', type(x))\n",
    "\n",
    "x=1.1e18\n",
    "print('x =', x, '\\t\\t=> with type', type(x))\n",
    "\n",
    "x=True #True with Uppercase T and False with Uppercase F\n",
    "print('x =', x, '\\t\\t=> with type', type(x))\n",
    "\n",
    "x=\"Hello World\"\n",
    "print('x =', x, '\\t=> with type', type(x))\n",
    "\n",
    "x='\"Hello World\"'\n",
    "print('x =', x, '\\t=> with type', type(x))\n",
    "\n",
    "x=1+2j\n",
    "print('x =', x, '\\t\\t=> with type', type(x))\n",
    "\n",
    "print()\n",
    "\n",
    "x=[1,2,3]\n",
    "print('x =', x, '\\t\\t=> with type', type(x))\n",
    "\n",
    "x=(1,2,3)\n",
    "print('x =', x, '\\t\\t=> with type', type(x))\n",
    "\n",
    "x=(1,)\n",
    "print('x =', x, '\\t\\t=> with type', type(x))\n",
    "\n",
    "x={1,2,3}\n",
    "print('x =', x, '\\t\\t=> with type', type(x))\n",
    "\n",
    "x={'a':1, 'b':2, 'c':3}\n",
    "print('x =', x, '\\t\\t=> with type', type(x))\n",
    "\n",
    "x=None\n",
    "print('x =', x, '\\t\\t=> with type', type(x))"
   ]
  },
  {
   "cell_type": "code",
   "execution_count": 9,
   "metadata": {},
   "outputs": [
    {
     "name": "stdout",
     "output_type": "stream",
     "text": [
      "x = 1 \t\t=> with type <class 'int'>\n"
     ]
    },
    {
     "ename": "NameError",
     "evalue": "name 'x' is not defined",
     "output_type": "error",
     "traceback": [
      "\u001b[1;31m---------------------------------------------------------------------------\u001b[0m",
      "\u001b[1;31mNameError\u001b[0m                                 Traceback (most recent call last)",
      "\u001b[1;32m<ipython-input-9-c8af3c90c366>\u001b[0m in \u001b[0;36m<module>\u001b[1;34m\u001b[0m\n\u001b[0;32m      3\u001b[0m \u001b[1;33m\u001b[0m\u001b[0m\n\u001b[0;32m      4\u001b[0m \u001b[1;32mdel\u001b[0m \u001b[0mx\u001b[0m\u001b[1;33m\u001b[0m\u001b[1;33m\u001b[0m\u001b[0m\n\u001b[1;32m----> 5\u001b[1;33m \u001b[0mprint\u001b[0m\u001b[1;33m(\u001b[0m\u001b[1;34m'x ='\u001b[0m\u001b[1;33m,\u001b[0m \u001b[0mx\u001b[0m\u001b[1;33m,\u001b[0m \u001b[1;34m'\\t\\t=> with type'\u001b[0m\u001b[1;33m,\u001b[0m \u001b[0mtype\u001b[0m\u001b[1;33m(\u001b[0m\u001b[0mx\u001b[0m\u001b[1;33m)\u001b[0m\u001b[1;33m)\u001b[0m\u001b[1;33m\u001b[0m\u001b[1;33m\u001b[0m\u001b[0m\n\u001b[0m",
      "\u001b[1;31mNameError\u001b[0m: name 'x' is not defined"
     ]
    }
   ],
   "source": [
    "x = 1\n",
    "print('x =', x, '\\t\\t=> with type', type(x))\n",
    "\n",
    "del x\n",
    "print('x =', x, '\\t\\t=> with type', type(x))"
   ]
  },
  {
   "cell_type": "code",
   "execution_count": null,
   "metadata": {},
   "outputs": [],
   "source": [
    "#python is also strongly typed so it will not implicitly change types\n",
    "x = \"This number is \" + 12"
   ]
  },
  {
   "cell_type": "code",
   "execution_count": null,
   "metadata": {},
   "outputs": [],
   "source": [
    "#but you can cast variable if you wish\n",
    "x = \"This number is \" + str(12)\n",
    "print(x)\n",
    "x = int(\"13\") + 12\n",
    "print(x)"
   ]
  },
  {
   "cell_type": "markdown",
   "metadata": {},
   "source": [
    "# Python Operators"
   ]
  },
  {
   "cell_type": "code",
   "execution_count": null,
   "metadata": {},
   "outputs": [],
   "source": [
    "x, y = 4, 5\n",
    "print('x+y = ', x+y)\n",
    "print('x-y = ', x-y)\n",
    "print('x*y = ', x*y)\n",
    "print('x/y = ', x/y)\n",
    "print('x//y = ', x//y)\n",
    "print('x%y = ', x%y)\n",
    "print('x**y = ', x**y)"
   ]
  },
  {
   "cell_type": "code",
   "execution_count": null,
   "metadata": {},
   "outputs": [],
   "source": [
    "x, y = 4, 5\n",
    "print('x==y = ', x==y)\n",
    "print('x!=y = ', x!=y)\n",
    "print('x<y = ', x<y)\n",
    "print('x>y = ', x>y)\n",
    "print('x<=y = ', x<=y)\n",
    "print('x>=y = ', x>=y)"
   ]
  },
  {
   "cell_type": "code",
   "execution_count": null,
   "metadata": {},
   "outputs": [],
   "source": [
    "x, y = True, False\n",
    "print('x and y = ', x and y)\n",
    "print('x or y = ', x or y)\n",
    "print('not x = ', not x)"
   ]
  },
  {
   "cell_type": "code",
   "execution_count": null,
   "metadata": {},
   "outputs": [],
   "source": [
    "x, y = 0b0101, 0b0011\n",
    "print('x & y = ', bin(x & y))\n",
    "print('x | y = ', bin(x | y))\n",
    "print('~ x = ', bin(~ x))\n",
    "print('x ^ y = ', bin(x ^ y))\n",
    "print('x << 1', bin(x << 1))\n",
    "print('x >> 1', bin(x >> 1))\n",
    "#bin here for selecting the binary representation not the decimal"
   ]
  },
  {
   "cell_type": "code",
   "execution_count": 10,
   "metadata": {},
   "outputs": [
    {
     "name": "stdout",
     "output_type": "stream",
     "text": [
      "x+y = HelloWorld\n",
      "x*3 = HelloHelloHello\n",
      "ascii of \"h\" =  104\n",
      "char for 104 =  h\n"
     ]
    }
   ],
   "source": [
    "x, y = 'Hello', \"World\"\n",
    "print('x+y =', x+y)\n",
    "print('x*3 =', x*3)\n",
    "print('ascii of \"h\" = ', ord('h'))\n",
    "print('char for 104 = ', chr(104))"
   ]
  },
  {
   "cell_type": "code",
   "execution_count": 11,
   "metadata": {},
   "outputs": [
    {
     "name": "stdout",
     "output_type": "stream",
     "text": [
      "x+y = [1, 2, 3, 4, 5]\n",
      "x*3 = [1, 2, 3, 1, 2, 3, 1, 2, 3]\n",
      "\n",
      "x+y = (1, 2, 3, 4, 5)\n",
      "x*3 = (1, 2, 3, 1, 2, 3, 1, 2, 3)\n"
     ]
    }
   ],
   "source": [
    "x, y = [1,2,3], [4,5]\n",
    "print('x+y =', x+y)\n",
    "print('x*3 =', x*3)\n",
    "\n",
    "print()\n",
    "\n",
    "x, y = (1,2,3), (4,5)\n",
    "print('x+y =', x+y)\n",
    "print('x*3 =', x*3)"
   ]
  },
  {
   "cell_type": "code",
   "execution_count": null,
   "metadata": {},
   "outputs": [],
   "source": [
    "#Python is an interpreted language so you can evaluate any string as python code\n",
    "x = \"1+(2*3)\"\n",
    "print(x,'=',eval(x))"
   ]
  },
  {
   "cell_type": "code",
   "execution_count": null,
   "metadata": {},
   "outputs": [],
   "source": [
    "x = 2\n",
    "print('x =', x)\n",
    "x += 1\n",
    "print('x =', x)\n",
    "x -= 1\n",
    "print('x =', x)\n",
    "x *= 5\n",
    "print('x =', x)\n",
    "x /= 5\n",
    "print('x =', x)\n",
    "x **= 10\n",
    "print('x =', x)\n",
    "x //= 10\n",
    "print('x =', x)\n",
    "x %= 10\n",
    "print('x =', x)"
   ]
  },
  {
   "cell_type": "code",
   "execution_count": null,
   "metadata": {},
   "outputs": [],
   "source": [
    "x = 4\n",
    "x |= 2\n",
    "print('x =', x)\n",
    "x &= 2\n",
    "print('x =', x)\n",
    "x ^= 7\n",
    "print('x =', x)"
   ]
  },
  {
   "cell_type": "markdown",
   "metadata": {},
   "source": [
    "# Exercise\n",
    "- Take a number from the user.\n",
    "- Print True if it is a power of two.\n",
    "- Otherwise print False."
   ]
  },
  {
   "cell_type": "code",
   "execution_count": 7,
   "metadata": {},
   "outputs": [
    {
     "name": "stdout",
     "output_type": "stream",
     "text": [
      "<class 'str'>\n",
      "<class 'int'>\n",
      "True\n"
     ]
    }
   ],
   "source": [
    "# Enter Code Here\n",
    "x=input(\"enter a number\")\n",
    "print(type(x))\n",
    "x=int(x)\n",
    "print(type(x))\n",
    "print(x&(x-1)==0)"
   ]
  },
  {
   "cell_type": "markdown",
   "metadata": {},
   "source": [
    "# End of Exercise"
   ]
  },
  {
   "cell_type": "code",
   "execution_count": 1,
   "metadata": {},
   "outputs": [
    {
     "name": "stdout",
     "output_type": "stream",
     "text": [
      "is 1 in list? = True\n",
      "is 4 in list? = False\n",
      "is 4 not in list? = True\n",
      "ll in hello True\n",
      "x in hello False\n",
      "is 1 in set? = True\n",
      "is 4 in set? = False\n",
      "is 1 in dict? = True\n",
      "is 4 in dict? = False\n"
     ]
    }
   ],
   "source": [
    "x = [1,2,3]\n",
    "print('is 1 in list? =', 1 in x)\n",
    "print('is 4 in list? =', 4 in x)\n",
    "print('is 4 not in list? =', 4 not in x)\n",
    "\n",
    "x='hello'\n",
    "print('ll in hello', 'll' in x)\n",
    "print('x in hello', 'x' in x)\n",
    "\n",
    "x = {1,2,3}\n",
    "print('is 1 in set? =', 1 in x)\n",
    "print('is 4 in set? =', 4 in x)\n",
    "\n",
    "x = {1:'a',2:'b',3:'c'}\n",
    "print('is 1 in dict? =', 1 in x)\n",
    "print('is 4 in dict? =', 4 in x)"
   ]
  },
  {
   "cell_type": "code",
   "execution_count": 2,
   "metadata": {},
   "outputs": [
    {
     "name": "stdout",
     "output_type": "stream",
     "text": [
      "Same Reference\n",
      "x == y = True\n",
      "x is y = True\n",
      "x is not y = False\n",
      "Different Reference\n",
      "x == y = True\n",
      "x is y = False\n",
      "x is not y = True\n"
     ]
    }
   ],
   "source": [
    "x = [1,2,3]\n",
    "y = x\n",
    "print(\"Same Reference\")\n",
    "print('x == y =', x==y)\n",
    "print('x is y =', x is y)\n",
    "print('x is not y =', x is not y)\n",
    "\n",
    "y = [1,2,3]\n",
    "print(\"Different Reference\")\n",
    "print('x == y =', x==y)\n",
    "print('x is y =', x is y)\n",
    "print('x is not y =', x is not y)"
   ]
  },
  {
   "cell_type": "code",
   "execution_count": 3,
   "metadata": {
    "scrolled": true
   },
   "outputs": [
    {
     "name": "stdout",
     "output_type": "stream",
     "text": [
      "True\n",
      "True\n",
      "True\n"
     ]
    }
   ],
   "source": [
    "print(1 < 2 < 3)\n",
    "print(1 > 0 < 1)\n",
    "print(0 < 1 == 1 in [1, 2, 3])"
   ]
  },
  {
   "cell_type": "code",
   "execution_count": 4,
   "metadata": {},
   "outputs": [
    {
     "name": "stdout",
     "output_type": "stream",
     "text": [
      "True\n",
      "True\n",
      "True\n"
     ]
    }
   ],
   "source": [
    "# This is equivalent to the last block\n",
    "print(1 < 2 and 2 < 3)\n",
    "print(1 > 0 and 0 < 1)\n",
    "print(0 < 1 and 1 == 1 and 1 in [1, 2, 3])"
   ]
  },
  {
   "cell_type": "code",
   "execution_count": 5,
   "metadata": {},
   "outputs": [
    {
     "name": "stdout",
     "output_type": "stream",
     "text": [
      "1984683573616\n",
      "1984683573616\n",
      "1984683573616\n",
      "\n",
      "1984760421904\n",
      "1984760427312\n"
     ]
    }
   ],
   "source": [
    "# id depends on the memory location\n",
    "x = 5\n",
    "y = 5\n",
    "print(id(x))\n",
    "print(id(y))\n",
    "print(id(5))\n",
    "\n",
    "print()\n",
    "\n",
    "x = 257\n",
    "y = 257\n",
    "print(id(x))\n",
    "print(id(y))"
   ]
  },
  {
   "cell_type": "markdown",
   "metadata": {},
   "source": [
    "# Exercise\n",
    "- Take a list from the user.\n",
    "- Print True if it contains the number 13.\n",
    "- Otherwise print False."
   ]
  },
  {
   "cell_type": "code",
   "execution_count": 11,
   "metadata": {
    "scrolled": true
   },
   "outputs": [
    {
     "name": "stdout",
     "output_type": "stream",
     "text": [
      "<class 'list'>\n",
      "['1', '13', '14']\n",
      "True\n"
     ]
    }
   ],
   "source": [
    "# Enter Code Here\n",
    "# Take a list from the user.\n",
    "# Print True if it contains the number 13.\n",
    "# Otherwise print False.\n",
    "x=input(\"enter a list\")\n",
    "x=x.split(' ')\n",
    "print(type(x))\n",
    "print(x)\n",
    "print('13' in x)\n"
   ]
  },
  {
   "cell_type": "markdown",
   "metadata": {},
   "source": [
    "# End of Exercise"
   ]
  },
  {
   "cell_type": "markdown",
   "metadata": {},
   "source": [
    "# Strings"
   ]
  },
  {
   "cell_type": "code",
   "execution_count": 13,
   "metadata": {},
   "outputs": [
    {
     "name": "stdout",
     "output_type": "stream",
     "text": [
      "x[0] = H\n",
      "x[-1] = d\n",
      "x[1:3] =  el\n",
      "x[:3] =  Hel\n",
      "x[1:] =  ello World\n",
      "x[:-1] =  Hello Worl\n",
      "x[1:5:2] =  el\n",
      "x[::2] =  HloWrd\n",
      "x[::-1] =  dlroW olleH\n"
     ]
    }
   ],
   "source": [
    "x = 'Hello World'\n",
    "\n",
    "print(\"x[0] =\",x[0])\n",
    "print(\"x[-1] =\", x[-1])\n",
    "print(\"x[1:3] = \", x[1:3]) #slice from 1 (inclusive) to 3 (exclusive)\n",
    "print(\"x[:3] = \", x[:3])\n",
    "print(\"x[1:] = \", x[1:])\n",
    "print(\"x[:-1] = \", x[:-1])\n",
    "print(\"x[1:5:2] = \", x[1:5:2])\n",
    "print(\"x[::2] = \", x[::2])\n",
    "print(\"x[::-1] = \", x[::-1])"
   ]
  },
  {
   "cell_type": "code",
   "execution_count": 12,
   "metadata": {},
   "outputs": [
    {
     "name": "stdout",
     "output_type": "stream",
     "text": [
      "length of x = 11\n",
      "x[-1] = x[len(x)-1] =  d\n",
      "x[0] = x[-len(x)] = H\n"
     ]
    }
   ],
   "source": [
    "x = 'Hello World'\n",
    "\n",
    "print('length of x =', len(x))\n",
    "print('x[-1] = x[len(x)-1] = ', x[len(x)-1])\n",
    "print('x[0] = x[-len(x)] =', x[-len(x)])"
   ]
  },
  {
   "cell_type": "code",
   "execution_count": 13,
   "metadata": {},
   "outputs": [
    {
     "ename": "IndexError",
     "evalue": "string index out of range",
     "output_type": "error",
     "traceback": [
      "\u001b[1;31m---------------------------------------------------------------------------\u001b[0m",
      "\u001b[1;31mIndexError\u001b[0m                                Traceback (most recent call last)",
      "\u001b[1;32mc:\\Users\\Lenovo\\Desktop\\Commented_Python Tutorial.ipynb Cell 37\u001b[0m in \u001b[0;36m<module>\u001b[1;34m\u001b[0m\n\u001b[1;32m----> <a href='vscode-notebook-cell:/c%3A/Users/Lenovo/Desktop/Commented_Python%20Tutorial.ipynb#X51sZmlsZQ%3D%3D?line=0'>1</a>\u001b[0m \u001b[39mprint\u001b[39m(x[\u001b[39mlen\u001b[39;49m(x)]) \u001b[39m#error\u001b[39;00m\n\u001b[0;32m      <a href='vscode-notebook-cell:/c%3A/Users/Lenovo/Desktop/Commented_Python%20Tutorial.ipynb#X51sZmlsZQ%3D%3D?line=1'>2</a>\u001b[0m \u001b[39mprint\u001b[39m(x[\u001b[39m-\u001b[39m\u001b[39mlen\u001b[39m(x)\u001b[39m-\u001b[39m\u001b[39m1\u001b[39m])\n",
      "\u001b[1;31mIndexError\u001b[0m: string index out of range"
     ]
    }
   ],
   "source": [
    "print(x[len(x)]) #error\n",
    "print(x[-len(x)-1]) #error"
   ]
  },
  {
   "cell_type": "code",
   "execution_count": 14,
   "metadata": {},
   "outputs": [
    {
     "ename": "TypeError",
     "evalue": "'str' object does not support item assignment",
     "output_type": "error",
     "traceback": [
      "\u001b[1;31m---------------------------------------------------------------------------\u001b[0m",
      "\u001b[1;31mTypeError\u001b[0m                                 Traceback (most recent call last)",
      "\u001b[1;32mc:\\Users\\Lenovo\\Desktop\\Commented_Python Tutorial.ipynb Cell 38\u001b[0m in \u001b[0;36m<module>\u001b[1;34m\u001b[0m\n\u001b[0;32m      <a href='vscode-notebook-cell:/c%3A/Users/Lenovo/Desktop/Commented_Python%20Tutorial.ipynb#X52sZmlsZQ%3D%3D?line=0'>1</a>\u001b[0m x \u001b[39m=\u001b[39m \u001b[39m'\u001b[39m\u001b[39mHello World\u001b[39m\u001b[39m'\u001b[39m\n\u001b[1;32m----> <a href='vscode-notebook-cell:/c%3A/Users/Lenovo/Desktop/Commented_Python%20Tutorial.ipynb#X52sZmlsZQ%3D%3D?line=1'>2</a>\u001b[0m x[\u001b[39m1\u001b[39m] \u001b[39m=\u001b[39m \u001b[39m'\u001b[39m\u001b[39ma\u001b[39m\u001b[39m'\u001b[39m\n",
      "\u001b[1;31mTypeError\u001b[0m: 'str' object does not support item assignment"
     ]
    }
   ],
   "source": [
    "x = 'Hello World'\n",
    "x[1] = 'a'"
   ]
  },
  {
   "cell_type": "code",
   "execution_count": 15,
   "metadata": {},
   "outputs": [
    {
     "name": "stdout",
     "output_type": "stream",
     "text": [
      "Hallo World\n"
     ]
    }
   ],
   "source": [
    "x = x[0:1] + 'a' + x[2:]\n",
    "print(x)"
   ]
  },
  {
   "cell_type": "code",
   "execution_count": 16,
   "metadata": {},
   "outputs": [
    {
     "name": "stdout",
     "output_type": "stream",
     "text": [
      "['1', '2', '3', '4']\n",
      "['1', '2', '3', '4']\n"
     ]
    }
   ],
   "source": [
    "x = '1 2 3 4'\n",
    "print(x.split())\n",
    "\n",
    "x = '1/2/3/4'\n",
    "print(x.split('/'))"
   ]
  },
  {
   "cell_type": "code",
   "execution_count": 17,
   "metadata": {},
   "outputs": [
    {
     "name": "stdout",
     "output_type": "stream",
     "text": [
      "1+2+3+4\n"
     ]
    }
   ],
   "source": [
    "l = ['1','2','3','4']\n",
    "s = '+'.join(l)\n",
    "print(s)"
   ]
  },
  {
   "cell_type": "code",
   "execution_count": 18,
   "metadata": {},
   "outputs": [
    {
     "name": "stdout",
     "output_type": "stream",
     "text": [
      "Hello Mazinger, as you know, if x=1, then 2*x+1=3\n"
     ]
    }
   ],
   "source": [
    "x = 1\n",
    "y = \"Mazinger\"\n",
    "print(f'Hello {y}, as you know, if x={x}, then 2*x+1={2*x+1}')"
   ]
  },
  {
   "cell_type": "markdown",
   "metadata": {},
   "source": [
    "# Exercise\n",
    "- Take a string from the user\n",
    "- Print True if it is a palindrome\n",
    "- Otherwise it is a False"
   ]
  },
  {
   "cell_type": "code",
   "execution_count": 20,
   "metadata": {},
   "outputs": [
    {
     "name": "stdout",
     "output_type": "stream",
     "text": [
      "True\n"
     ]
    }
   ],
   "source": [
    "#Enter Code Here\n",
    "# Exercise\n",
    "# Take a string from the user\n",
    "# Print True if it is a palindrome\n",
    "# Otherwise it is a False\n",
    "x=input(\"enter a string\")\n",
    "print(x==x[::-1])"
   ]
  },
  {
   "cell_type": "markdown",
   "metadata": {},
   "source": [
    "# End of Exercise"
   ]
  },
  {
   "cell_type": "markdown",
   "metadata": {},
   "source": [
    "# Lists"
   ]
  },
  {
   "cell_type": "markdown",
   "metadata": {},
   "source": [
    " A list is a non-homogeneous data structure that stores the elements in columns of a single row or multiple rows.</br>\n",
    " The list allows duplicate elements</br>\n",
    " A list is mutable i.e we can make any changes in the list.</br>\n",
    " List is ordered</br>\n",
    " search is o(nlogn)</br>\n",
    " best for insertion and deletion </br>\n",
    " not the best for searching</br>"
   ]
  },
  {
   "cell_type": "code",
   "execution_count": 21,
   "metadata": {},
   "outputs": [
    {
     "name": "stdout",
     "output_type": "stream",
     "text": [
      "x[0] = 1\n",
      "x[-1] = (1+5j)\n",
      "x[1:3] =  [2, 3]\n",
      "x[:3] =  [1, 2, 3]\n",
      "x[1:] =  [2, 3, 'hello', 1.2, (1+5j)]\n",
      "x[:-1] =  [1, 2, 3, 'hello', 1.2]\n",
      "x[1:5:2] =  [2, 'hello']\n",
      "x[::2] =  [1, 3, 1.2]\n",
      "x[::-1] =  [(1+5j), 1.2, 'hello', 3, 2, 1]\n"
     ]
    }
   ],
   "source": [
    "x = [1,2,3,'hello',1.2,1+5j]\n",
    "\n",
    "print(\"x[0] =\",x[0])\n",
    "print(\"x[-1] =\", x[-1])\n",
    "print(\"x[1:3] = \", x[1:3]) #slice from 1 (inclusive) to 3 (exclusive)\n",
    "print(\"x[:3] = \", x[:3])\n",
    "print(\"x[1:] = \", x[1:])\n",
    "print(\"x[:-1] = \", x[:-1])\n",
    "print(\"x[1:5:2] = \", x[1:5:2])\n",
    "print(\"x[::2] = \", x[::2])\n",
    "print(\"x[::-1] = \", x[::-1])"
   ]
  },
  {
   "cell_type": "code",
   "execution_count": 22,
   "metadata": {},
   "outputs": [
    {
     "name": "stdout",
     "output_type": "stream",
     "text": [
      "[1, 'a', 3, 4, 5]\n",
      "[1, 'add', 'this', 5]\n",
      "[1, 5]\n"
     ]
    }
   ],
   "source": [
    "x = [1,2,3,4,5]\n",
    "\n",
    "x[1] = 'a'\n",
    "print(x)\n",
    "x[1:-1] = ['add', 'this']\n",
    "print(x)\n",
    "x[1:-1] = []\n",
    "print(x)"
   ]
  },
  {
   "cell_type": "code",
   "execution_count": 23,
   "metadata": {},
   "outputs": [
    {
     "name": "stdout",
     "output_type": "stream",
     "text": [
      "x =  [1, 'edit', 3, 4, 5]\n",
      "y =  [1, 'edit', 3, 4, 5]\n"
     ]
    }
   ],
   "source": [
    "x = [1,2,3,4,5]\n",
    "y = x\n",
    "y[1] = 'edit'\n",
    "print('x = ', x)\n",
    "print('y = ', y)"
   ]
  },
  {
   "cell_type": "code",
   "execution_count": 24,
   "metadata": {},
   "outputs": [
    {
     "name": "stdout",
     "output_type": "stream",
     "text": [
      "x =  [1, 2, 3, 4, 5]\n",
      "y =  [1, 'edit', 3, 4, 5]\n"
     ]
    }
   ],
   "source": [
    "x = [1,2,3,4,5]\n",
    "y = x[:]\n",
    "y[1] = 'edit'\n",
    "print('x = ', x)\n",
    "print('y = ', y)"
   ]
  },
  {
   "cell_type": "code",
   "execution_count": 25,
   "metadata": {},
   "outputs": [
    {
     "name": "stdout",
     "output_type": "stream",
     "text": [
      "[1, 2, 3, 4, 5, 'last']\n",
      "['first', 1, 2, 3, 4, 5, 'last']\n",
      "['first', 1, 2, 'middle', 3, 4, 5, 'last']\n"
     ]
    }
   ],
   "source": [
    "x = [1,2,3,4,5]\n",
    "x.append('last')\n",
    "print(x)\n",
    "x.insert(0, 'first')\n",
    "print(x)\n",
    "x.insert(len(x)//2, 'middle')\n",
    "print(x)"
   ]
  },
  {
   "cell_type": "code",
   "execution_count": 26,
   "metadata": {},
   "outputs": [
    {
     "name": "stdout",
     "output_type": "stream",
     "text": [
      "[1, 2, 3, 4]\n",
      "[2, 3, 4]\n",
      "[2, 4]\n"
     ]
    }
   ],
   "source": [
    "x = [1,2,3,4,5]\n",
    "\n",
    "x.pop()\n",
    "print(x)\n",
    "x.pop(0)\n",
    "print(x)\n",
    "x.pop(len(x)//2)\n",
    "print(x)"
   ]
  },
  {
   "cell_type": "code",
   "execution_count": 27,
   "metadata": {
    "scrolled": true
   },
   "outputs": [
    {
     "name": "stdout",
     "output_type": "stream",
     "text": [
      "count of 1 = 3\n",
      "max = 3\n",
      "min = 1\n",
      "first index of 2 = 1\n",
      "reversed = [1, 2, 1, 3, 2, 1]\n",
      "x didn't change = [1, 2, 3, 1, 2, 1]\n",
      "reversed inplace = [1, 2, 1, 3, 2, 1]\n",
      "sorted = [1, 1, 1, 2, 2, 3]\n",
      "x didn't change = [1, 2, 1, 3, 2, 1]\n",
      "sorted inplace = [1, 1, 1, 2, 2, 3]\n",
      "with [4,5] = [1, 1, 1, 2, 2, 3, 4, 5]\n",
      "with 2 = [1, 1, 1, 2, 3, 4, 5]\n"
     ]
    }
   ],
   "source": [
    "x = [1,2,3,1,2,1]\n",
    "\n",
    "print('count of 1 =', x.count(1))\n",
    "print('max =', max(x))\n",
    "print('min =', min(x))\n",
    "print('first index of 2 =', x.index(2))\n",
    "\n",
    "#reversing\n",
    "print('reversed =', list(reversed(x)))\n",
    "print('x didn\\'t change =', x)\n",
    "x.reverse() #done inplace\n",
    "print('reversed inplace =', x)\n",
    "\n",
    "#sorting\n",
    "print('sorted =', list(sorted(x)))\n",
    "print('x didn\\'t change =', x)\n",
    "x.sort() #done inplace\n",
    "print('sorted inplace =', x)\n",
    "\n",
    "x.extend([4, 5])\n",
    "print('with [4,5] =', x)\n",
    "x.remove(2)\n",
    "print('with 2 =', x)"
   ]
  },
  {
   "cell_type": "code",
   "execution_count": 28,
   "metadata": {},
   "outputs": [
    {
     "name": "stdout",
     "output_type": "stream",
     "text": [
      "[1, 2, 3, 1, 2, 1]\n",
      "1 2 3 1 2 1\n"
     ]
    }
   ],
   "source": [
    "x = [1,2,3,1,2,1]\n",
    "print(x)\n",
    "print(*x)"
   ]
  },
  {
   "cell_type": "code",
   "execution_count": 29,
   "metadata": {},
   "outputs": [
    {
     "name": "stdout",
     "output_type": "stream",
     "text": [
      "[1, 2, 3, 9, 8, 7]\n",
      "[1, 2, 3, 5, 9, 8, 7]\n",
      "[1, 9, 8, 7, 1, 2, 3]\n"
     ]
    }
   ],
   "source": [
    "x = [1,2,3]\n",
    "y = [9,8,7]\n",
    "print([*x, *y])\n",
    "print([*x, 5, *y])\n",
    "print([1, *y, *x])"
   ]
  },
  {
   "cell_type": "markdown",
   "metadata": {},
   "source": [
    "# Exercise\n",
    "- Read a list from the user\n",
    "- Create another list whose odd elements are the elements of the given list in order\n",
    "- And whose even elements are the elements of the given list in reverse order\n",
    "- Then print the new list"
   ]
  },
  {
   "cell_type": "code",
   "execution_count": 32,
   "metadata": {},
   "outputs": [
    {
     "name": "stdout",
     "output_type": "stream",
     "text": [
      "New list with odd elements in order and even elements in reverse order:\n",
      "[]\n"
     ]
    }
   ],
   "source": [
    "# Enter Code Here\n",
    "# Read a list from the user\n",
    "# Create another list whose odd elements are the elements of the given list in order\n",
    "# And whose even elements are the elements of the given list in reverse order\n",
    "# Then print the new list\n",
    "\n",
    "user_input = input(\"Enter a list of elements separated by spaces: \")\n",
    "original_list = user_input.split()\n",
    "\n",
    "original_list = [int(element) for element in original_list]\n",
    "\n",
    "new_list = []\n",
    "\n",
    "for i in range(len(original_list)):\n",
    "    if i % 2 == 0:\n",
    "        # Even index, add the element from the original list in reverse order\n",
    "        new_list.append(original_list[-(i // 2 + 1)])\n",
    "    else:\n",
    "        # Odd index, add the element from the original list in order\n",
    "        new_list.append(original_list[i // 2])\n",
    "\n",
    "print(\"New list with odd elements in order and even elements in reverse order:\")\n",
    "print(new_list)\n"
   ]
  },
  {
   "cell_type": "markdown",
   "metadata": {},
   "source": [
    "# End of Exercise"
   ]
  },
  {
   "cell_type": "markdown",
   "metadata": {},
   "source": [
    "# Tuples"
   ]
  },
  {
   "cell_type": "markdown",
   "metadata": {},
   "source": [
    "### Tuple are similar to lists but can not be edited after creation similar to string"
   ]
  },
  {
   "cell_type": "markdown",
   "metadata": {},
   "source": [
    "A Tuple is also a non-homogeneous data structure that stores elements in columns of a single row or multiple rows.</br>\n",
    "Tuple allows duplicate elements</br>\n",
    "A tuple is immutable i.e we can not make any changes in the tuple.</br>\n",
    "Tuple is ordered</br>\n",
    "\n"
   ]
  },
  {
   "cell_type": "code",
   "execution_count": 33,
   "metadata": {},
   "outputs": [
    {
     "name": "stdout",
     "output_type": "stream",
     "text": [
      "(1, 2)\n",
      "(1, 2)\n"
     ]
    }
   ],
   "source": [
    "x = (1,2)\n",
    "print(x)\n",
    "x = 1,2\n",
    "print(x)"
   ]
  },
  {
   "cell_type": "code",
   "execution_count": 34,
   "metadata": {},
   "outputs": [
    {
     "name": "stdout",
     "output_type": "stream",
     "text": [
      "1 2\n"
     ]
    }
   ],
   "source": [
    "x = (1,2)\n",
    "a, b = x\n",
    "print(a, b)"
   ]
  },
  {
   "cell_type": "code",
   "execution_count": 35,
   "metadata": {},
   "outputs": [
    {
     "name": "stdout",
     "output_type": "stream",
     "text": [
      "1 2\n",
      "2 1\n"
     ]
    }
   ],
   "source": [
    "x, y = 1, 2\n",
    "print(x, y)\n",
    "x, y = y, x #swapping\n",
    "print(x, y)"
   ]
  },
  {
   "cell_type": "code",
   "execution_count": 36,
   "metadata": {},
   "outputs": [
    {
     "name": "stdout",
     "output_type": "stream",
     "text": [
      "[1, 2, 3] (1, 2, 3)\n",
      "(1, 2, 3) [1, 2, 3]\n"
     ]
    }
   ],
   "source": [
    "x = [1, 2, 3]\n",
    "print(x, tuple(x))\n",
    "x = (1,2,3)\n",
    "print(x, list(x))"
   ]
  },
  {
   "cell_type": "code",
   "execution_count": 37,
   "metadata": {},
   "outputs": [
    {
     "name": "stdout",
     "output_type": "stream",
     "text": [
      "x==y = True\n",
      "x is y = True\n"
     ]
    }
   ],
   "source": [
    "x = (1,2,3)\n",
    "y = tuple(x)\n",
    "print('x==y =', x==y)\n",
    "print('x is y =', x is y)"
   ]
  },
  {
   "cell_type": "code",
   "execution_count": 38,
   "metadata": {},
   "outputs": [
    {
     "name": "stdout",
     "output_type": "stream",
     "text": [
      "x==y = True\n",
      "x is y = False\n"
     ]
    }
   ],
   "source": [
    "x = [1,2,3]\n",
    "y = list(x)\n",
    "print('x==y =', x==y)\n",
    "print('x is y =', x is y)"
   ]
  },
  {
   "cell_type": "code",
   "execution_count": 39,
   "metadata": {},
   "outputs": [
    {
     "name": "stdout",
     "output_type": "stream",
     "text": [
      "(1, 2, 3, 4, 5, 6, 7)\n"
     ]
    }
   ],
   "source": [
    "x = (1,2,3)\n",
    "y = (4,5,6)\n",
    "print((*x, *y, 7))"
   ]
  },
  {
   "cell_type": "markdown",
   "metadata": {},
   "source": [
    "# Sets"
   ]
  },
  {
   "cell_type": "markdown",
   "metadata": {},
   "source": [
    "The Set will not allow duplicate elements  </br>\n",
    "Set is unordered</br>\n",
    "set is implemented as a hash table. using 'in' operation , the lookup is o(1)</br>\n",
    "A set is mutable i.e we can make any changes in the set, but elements are not duplicated.</br>\n",
    "You cannot access items in a set by referring to an index or a key.</br>\n",
    "But you can loop through the set items using a for loop, or ask if a specified value is present in a set, by using the in keyword.</br>"
   ]
  },
  {
   "cell_type": "code",
   "execution_count": 40,
   "metadata": {},
   "outputs": [
    {
     "name": "stdout",
     "output_type": "stream",
     "text": [
      "set()\n",
      "{1, 2, 3}\n"
     ]
    }
   ],
   "source": [
    "x = set() #empty set\n",
    "print(x)\n",
    "x = {1,2,3}\n",
    "print(x)"
   ]
  },
  {
   "cell_type": "code",
   "execution_count": 41,
   "metadata": {},
   "outputs": [
    {
     "name": "stdout",
     "output_type": "stream",
     "text": [
      "{1, 2, 3}\n"
     ]
    }
   ],
   "source": [
    "x = [1,2,3,1,2,1]\n",
    "print(set(x)) #sets are unique"
   ]
  },
  {
   "cell_type": "code",
   "execution_count": 42,
   "metadata": {},
   "outputs": [
    {
     "ename": "TypeError",
     "evalue": "'set' object is not subscriptable",
     "output_type": "error",
     "traceback": [
      "\u001b[1;31m---------------------------------------------------------------------------\u001b[0m",
      "\u001b[1;31mTypeError\u001b[0m                                 Traceback (most recent call last)",
      "\u001b[1;32mc:\\Users\\Lenovo\\Desktop\\Commented_Python Tutorial.ipynb Cell 74\u001b[0m in \u001b[0;36m<module>\u001b[1;34m\u001b[0m\n\u001b[0;32m      <a href='vscode-notebook-cell:/c%3A/Users/Lenovo/Desktop/Commented_Python%20Tutorial.ipynb#Y133sZmlsZQ%3D%3D?line=0'>1</a>\u001b[0m x \u001b[39m=\u001b[39m {\u001b[39m1\u001b[39m,\u001b[39m2\u001b[39m,\u001b[39m3\u001b[39m}\n\u001b[1;32m----> <a href='vscode-notebook-cell:/c%3A/Users/Lenovo/Desktop/Commented_Python%20Tutorial.ipynb#Y133sZmlsZQ%3D%3D?line=1'>2</a>\u001b[0m x[\u001b[39m0\u001b[39;49m]\n",
      "\u001b[1;31mTypeError\u001b[0m: 'set' object is not subscriptable"
     ]
    }
   ],
   "source": [
    "x = {1,2,3}\n",
    "x[0] #error"
   ]
  },
  {
   "cell_type": "code",
   "execution_count": 43,
   "metadata": {},
   "outputs": [
    {
     "name": "stdout",
     "output_type": "stream",
     "text": [
      "union = {1, 2, 3, 4}\n",
      "intersection = {1}\n",
      "difference = {2, 3}\n"
     ]
    }
   ],
   "source": [
    "x, y = {1,2,3}, {1,4}\n",
    "print('union =', x | y)\n",
    "print('intersection =', x & y)\n",
    "print('difference =', x - y)"
   ]
  },
  {
   "cell_type": "code",
   "execution_count": 44,
   "metadata": {},
   "outputs": [
    {
     "name": "stdout",
     "output_type": "stream",
     "text": [
      "{1, 2, 3}\n",
      "{1, 2, 3}\n",
      "{1, 2, 3, 4}\n",
      "{2, 3, 4}\n",
      "length = 3\n"
     ]
    }
   ],
   "source": [
    "x = {1,2,3}\n",
    "print(x)\n",
    "x.add(1)\n",
    "print(x)\n",
    "x.add(4)\n",
    "print(x)\n",
    "x.remove(1)\n",
    "print(x)\n",
    "print('length =', len(x))"
   ]
  },
  {
   "cell_type": "code",
   "execution_count": 45,
   "metadata": {},
   "outputs": [
    {
     "name": "stdout",
     "output_type": "stream",
     "text": [
      "x==y = True\n",
      "x is y = False\n"
     ]
    }
   ],
   "source": [
    "x = {1,2,3}\n",
    "y = set(x)\n",
    "print('x==y =', x==y)\n",
    "print('x is y =', x is y)"
   ]
  },
  {
   "cell_type": "code",
   "execution_count": 46,
   "metadata": {},
   "outputs": [
    {
     "name": "stdout",
     "output_type": "stream",
     "text": [
      "{1, 2, 3, 4}\n"
     ]
    }
   ],
   "source": [
    "x = {1, 2, 3}\n",
    "y = {2, 3, 4}\n",
    "print({*x, *y})"
   ]
  },
  {
   "cell_type": "markdown",
   "metadata": {},
   "source": [
    "# Exercise\n",
    "- Read a list from the user\n",
    "- Print the number of unique (different) elements in the list."
   ]
  },
  {
   "cell_type": "code",
   "execution_count": 48,
   "metadata": {},
   "outputs": [
    {
     "name": "stdout",
     "output_type": "stream",
     "text": [
      "Number of unique elements in the list: 0\n"
     ]
    }
   ],
   "source": [
    "# Enter Code Here\n",
    "user_input = input(\"Enter a list of elements separated by spaces: \")\n",
    "user_list = user_input.split()\n",
    "\n",
    "user_list = [int(element) for element in user_list]\n",
    "\n",
    "unique_elements = set(user_list)\n",
    "\n",
    "num_unique_elements = len(unique_elements)\n",
    "print(\"Number of unique elements in the list:\", num_unique_elements)\n"
   ]
  },
  {
   "cell_type": "markdown",
   "metadata": {},
   "source": [
    "# End Of Exercise"
   ]
  },
  {
   "cell_type": "markdown",
   "metadata": {},
   "source": [
    "# Dictionaries"
   ]
  },
  {
   "cell_type": "markdown",
   "metadata": {},
   "source": [
    "A dictionary is also a non-homogeneous data structure that stores key-value pairs.</br>\n",
    "The dictionary will not allow duplicate keys  </br>\n",
    "dictionary is unordered before python 3.7 </br>\n",
    "dictionary is implemented as a hash table. using 'in' operation , the lookup is o(1)</br>\n",
    "A dictionary is mutable i.e we can make any changes in the set, but keys are not duplicated.</br>\n",
    "used for search and large data structures"
   ]
  },
  {
   "cell_type": "code",
   "execution_count": 49,
   "metadata": {},
   "outputs": [
    {
     "name": "stdout",
     "output_type": "stream",
     "text": [
      "{}\n",
      "{}\n",
      "{'a': 1, 2: 'Hello', (1, 2): 'world'}\n"
     ]
    }
   ],
   "source": [
    "x = {} #empty dict\n",
    "print(x)\n",
    "x = dict() #empty dict\n",
    "print(x)\n",
    "x = {'a':1, 2:'Hello', (1,2):'world'}\n",
    "print(x)"
   ]
  },
  {
   "cell_type": "code",
   "execution_count": 50,
   "metadata": {},
   "outputs": [
    {
     "name": "stdout",
     "output_type": "stream",
     "text": [
      "1\n",
      "Hello\n",
      "default\n"
     ]
    }
   ],
   "source": [
    "x = {'a':1, 2:'Hello', (1,2):'world'}\n",
    "print(x['a'])\n",
    "print(x[2])\n",
    "print(x.get(1, 'default')) #use default if key doesn't exist"
   ]
  },
  {
   "cell_type": "code",
   "execution_count": 51,
   "metadata": {},
   "outputs": [
    {
     "name": "stdout",
     "output_type": "stream",
     "text": [
      "{'a': 'String A', 1: 'Integer 1', (1, 2): 'It takes tuples too', None: 'And Nones', False: 'And Booleans'}\n"
     ]
    }
   ],
   "source": [
    "x = {}\n",
    "x['a'] = 'String A'\n",
    "x[1] = 'Integer 1'\n",
    "x[(1,2)] = \"It takes tuples too\"\n",
    "x[None] = 'And Nones'\n",
    "x[False] = 'And Booleans'\n",
    "print(x)"
   ]
  },
  {
   "cell_type": "code",
   "execution_count": 52,
   "metadata": {},
   "outputs": [
    {
     "ename": "TypeError",
     "evalue": "unhashable type: 'list'",
     "output_type": "error",
     "traceback": [
      "\u001b[1;31m---------------------------------------------------------------------------\u001b[0m",
      "\u001b[1;31mTypeError\u001b[0m                                 Traceback (most recent call last)",
      "\u001b[1;32mc:\\Users\\Lenovo\\Desktop\\Commented_Python Tutorial.ipynb Cell 87\u001b[0m in \u001b[0;36m<module>\u001b[1;34m\u001b[0m\n\u001b[0;32m      <a href='vscode-notebook-cell:/c%3A/Users/Lenovo/Desktop/Commented_Python%20Tutorial.ipynb#Y152sZmlsZQ%3D%3D?line=0'>1</a>\u001b[0m x \u001b[39m=\u001b[39m {}\n\u001b[1;32m----> <a href='vscode-notebook-cell:/c%3A/Users/Lenovo/Desktop/Commented_Python%20Tutorial.ipynb#Y152sZmlsZQ%3D%3D?line=1'>2</a>\u001b[0m x[[\u001b[39m1\u001b[39m,\u001b[39m2\u001b[39m,\u001b[39m3\u001b[39m]] \u001b[39m=\u001b[39m \u001b[39m'\u001b[39m\u001b[39mNo Lists :(\u001b[39m\u001b[39m'\u001b[39m \u001b[39m#error\u001b[39;00m\n\u001b[0;32m      <a href='vscode-notebook-cell:/c%3A/Users/Lenovo/Desktop/Commented_Python%20Tutorial.ipynb#Y152sZmlsZQ%3D%3D?line=2'>3</a>\u001b[0m x[{\u001b[39m1\u001b[39m,\u001b[39m2\u001b[39m,\u001b[39m3\u001b[39m}] \u001b[39m=\u001b[39m \u001b[39m\"\u001b[39m\u001b[39mNo Sets :(\u001b[39m\u001b[39m\"\u001b[39m \u001b[39m#error\u001b[39;00m\n\u001b[0;32m      <a href='vscode-notebook-cell:/c%3A/Users/Lenovo/Desktop/Commented_Python%20Tutorial.ipynb#Y152sZmlsZQ%3D%3D?line=3'>4</a>\u001b[0m x[x] \u001b[39m=\u001b[39m \u001b[39m'\u001b[39m\u001b[39mNo Dicts :(\u001b[39m\u001b[39m'\u001b[39m\n",
      "\u001b[1;31mTypeError\u001b[0m: unhashable type: 'list'"
     ]
    }
   ],
   "source": [
    "x = {}\n",
    "x[[1,2,3]] = 'No Lists :(' #error\n",
    "x[{1,2,3}] = \"No Sets :(\" #error\n",
    "x[x] = 'No Dicts :(' #error"
   ]
  },
  {
   "cell_type": "code",
   "execution_count": 53,
   "metadata": {},
   "outputs": [
    {
     "name": "stdout",
     "output_type": "stream",
     "text": [
      "{'me': {...}}\n"
     ]
    }
   ],
   "source": [
    "x = {}\n",
    "x[\"me\"] = x\n",
    "print(x)"
   ]
  },
  {
   "cell_type": "code",
   "execution_count": 54,
   "metadata": {},
   "outputs": [
    {
     "name": "stdout",
     "output_type": "stream",
     "text": [
      "{'a': 1, 2: 'Hello', (1, 2): 'world'}\n",
      "{2: 'Hello', (1, 2): 'world'}\n"
     ]
    }
   ],
   "source": [
    "x = {'a':1, 2:'Hello', (1,2):'world'}\n",
    "print(x)\n",
    "del x['a']\n",
    "print(x)"
   ]
  },
  {
   "cell_type": "code",
   "execution_count": 55,
   "metadata": {},
   "outputs": [
    {
     "name": "stdout",
     "output_type": "stream",
     "text": [
      "{'a': 'another', 2: 'Hello', (1, 2): 'world', 'b': 100}\n",
      "{'a': 'another', 'b': 100, 2: 'Hello', (1, 2): 'world'}\n",
      "{'a': 'another', 2: 'Hello', (1, 2): 'world', 'b': 100, 'bye': 10, 'here': 6}\n"
     ]
    }
   ],
   "source": [
    "x = {'a':1, 2:'Hello', (1,2):'world'}\n",
    "y = {'a':'another', 'b':100}\n",
    "x.update(**y)\n",
    "print(x)\n",
    "y.update(x)\n",
    "print(y)\n",
    "x.update([('bye',10),('here',6)])\n",
    "print(x)"
   ]
  },
  {
   "cell_type": "code",
   "execution_count": 56,
   "metadata": {},
   "outputs": [
    {
     "name": "stdout",
     "output_type": "stream",
     "text": [
      "{'a': 1, 2: 'Hello', (1, 2): 'world'}\n",
      "['a', 2, (1, 2)]\n",
      "dict_keys(['a', 2, (1, 2)])\n",
      "dict_values([1, 'Hello', 'world'])\n",
      "dict_items([('a', 1), (2, 'Hello'), ((1, 2), 'world')])\n"
     ]
    }
   ],
   "source": [
    "x = [('a',1), (2,'Hello'), ((1,2),'world')]\n",
    "y = dict(x)\n",
    "print(y)\n",
    "print(list(y))\n",
    "print(y.keys())\n",
    "print(y.values())\n",
    "print(y.items())"
   ]
  },
  {
   "cell_type": "code",
   "execution_count": 57,
   "metadata": {},
   "outputs": [
    {
     "name": "stdout",
     "output_type": "stream",
     "text": [
      "{'a': 1, 'b': 6, 'c': 7}\n",
      "{'b': 2, 'c': 9, 'a': 1}\n"
     ]
    }
   ],
   "source": [
    "x = {'a':1, 'b':2}\n",
    "y = {'b':6, 'c':7}\n",
    "print({**x, **y})\n",
    "print({**y, **x, 'c':9})"
   ]
  },
  {
   "cell_type": "markdown",
   "metadata": {},
   "source": [
    "# None"
   ]
  },
  {
   "cell_type": "code",
   "execution_count": 58,
   "metadata": {},
   "outputs": [
    {
     "name": "stdout",
     "output_type": "stream",
     "text": [
      "None\n"
     ]
    }
   ],
   "source": [
    "x = None\n",
    "print(x)"
   ]
  },
  {
   "cell_type": "code",
   "execution_count": 59,
   "metadata": {},
   "outputs": [
    {
     "name": "stdout",
     "output_type": "stream",
     "text": [
      "True\n",
      "False\n"
     ]
    }
   ],
   "source": [
    "x = None\n",
    "print(x is None)\n",
    "x = 1\n",
    "print(x is None)"
   ]
  },
  {
   "cell_type": "code",
   "execution_count": 60,
   "metadata": {},
   "outputs": [
    {
     "name": "stdout",
     "output_type": "stream",
     "text": [
      "Hello\n",
      "Something\n"
     ]
    }
   ],
   "source": [
    "x = None\n",
    "print(x or \"Hello\")\n",
    "x = 'Something'\n",
    "print(x or \"Hello\")"
   ]
  },
  {
   "cell_type": "markdown",
   "metadata": {},
   "source": [
    "# IF Conditions"
   ]
  },
  {
   "cell_type": "code",
   "execution_count": 61,
   "metadata": {},
   "outputs": [],
   "source": [
    "y = 5\n",
    "if y > 10:\n",
    "    print('y is less than 10')\n",
    "    print('Hello')"
   ]
  },
  {
   "cell_type": "code",
   "execution_count": 62,
   "metadata": {},
   "outputs": [
    {
     "name": "stdout",
     "output_type": "stream",
     "text": [
      "y is larger than 10\n"
     ]
    }
   ],
   "source": [
    "y = 15\n",
    "if y < 10:\n",
    "    print('y is less than 10')\n",
    "else:\n",
    "    print('y is larger than 10')"
   ]
  },
  {
   "cell_type": "code",
   "execution_count": 63,
   "metadata": {},
   "outputs": [
    {
     "name": "stdout",
     "output_type": "stream",
     "text": [
      "y is less than 20 and larger than 10\n"
     ]
    }
   ],
   "source": [
    "y = 15\n",
    "if y < 10:\n",
    "    print('y is less than 10')\n",
    "elif y < 20:\n",
    "    print('y is less than 20 and larger than 10')\n",
    "else:\n",
    "    print('y is larger than 20')"
   ]
  },
  {
   "cell_type": "code",
   "execution_count": 64,
   "metadata": {},
   "outputs": [],
   "source": [
    "y = 15\n",
    "if y < 10:\n",
    "    print('y is less than 10')\n",
    "elif y < 20:\n",
    "    pass\n",
    "else:\n",
    "    print('y is larger than 20')"
   ]
  },
  {
   "cell_type": "code",
   "execution_count": 65,
   "metadata": {},
   "outputs": [
    {
     "name": "stdout",
     "output_type": "stream",
     "text": [
      "y is larger than 10\n"
     ]
    }
   ],
   "source": [
    "y = 15\n",
    "print('y is less than 10' if y < 10 else 'y is larger than 10')"
   ]
  },
  {
   "cell_type": "markdown",
   "metadata": {},
   "source": [
    "# Exercise\n",
    "- Read a number from the user\n",
    "- Print whether it is odd or even"
   ]
  },
  {
   "cell_type": "code",
   "execution_count": 67,
   "metadata": {},
   "outputs": [
    {
     "name": "stdout",
     "output_type": "stream",
     "text": [
      "5 is odd.\n"
     ]
    }
   ],
   "source": [
    "# Enter Code Here\n",
    "\n",
    "user_input = input(\"Enter a number: \")\n",
    "try:\n",
    "    number = int(user_input)  \n",
    "    if number % 2 == 0:\n",
    "        print(f\"{number} is even.\")\n",
    "    else:\n",
    "        print(f\"{number} is odd.\")\n",
    "except ValueError:\n",
    "    print(\"Invalid input. Please enter a valid integer.\")\n"
   ]
  },
  {
   "cell_type": "markdown",
   "metadata": {},
   "source": [
    "# End of Exercise"
   ]
  },
  {
   "cell_type": "markdown",
   "metadata": {},
   "source": [
    "# While Loops"
   ]
  },
  {
   "cell_type": "code",
   "execution_count": 68,
   "metadata": {
    "scrolled": true
   },
   "outputs": [
    {
     "name": "stdout",
     "output_type": "stream",
     "text": [
      "1\n",
      "2\n",
      "4\n",
      "8\n",
      "16\n",
      "32\n",
      "64\n",
      "128\n",
      "256\n",
      "512\n"
     ]
    }
   ],
   "source": [
    "i = 1\n",
    "while i < 1000:\n",
    "    print(i)\n",
    "    i *= 2"
   ]
  },
  {
   "cell_type": "code",
   "execution_count": 69,
   "metadata": {},
   "outputs": [
    {
     "name": "stdout",
     "output_type": "stream",
     "text": [
      "1\n",
      "2\n",
      "4\n",
      "8\n",
      "16\n",
      "32\n",
      "64\n",
      "128\n",
      "256\n",
      "512\n"
     ]
    }
   ],
   "source": [
    "i = 1\n",
    "while True:\n",
    "    print(i)\n",
    "    i *= 2\n",
    "    if i >= 1000:\n",
    "        break"
   ]
  },
  {
   "cell_type": "code",
   "execution_count": 70,
   "metadata": {},
   "outputs": [
    {
     "name": "stdout",
     "output_type": "stream",
     "text": [
      "5\n",
      "6\n",
      "7\n",
      "8\n",
      "9\n",
      "10\n"
     ]
    }
   ],
   "source": [
    "i = 0\n",
    "while i < 10:\n",
    "    i+=1\n",
    "    if i < 5:\n",
    "        continue\n",
    "    print(i)"
   ]
  },
  {
   "cell_type": "code",
   "execution_count": 71,
   "metadata": {},
   "outputs": [
    {
     "name": "stdout",
     "output_type": "stream",
     "text": [
      "1\n",
      "2\n",
      "3\n",
      "4\n",
      "5\n",
      "You can have an else too by the way\n"
     ]
    }
   ],
   "source": [
    "i = 0\n",
    "while i < 5:\n",
    "    i+=1\n",
    "    print(i)\n",
    "else:\n",
    "    print('You can have an else too by the way')"
   ]
  },
  {
   "cell_type": "code",
   "execution_count": 72,
   "metadata": {},
   "outputs": [
    {
     "name": "stdout",
     "output_type": "stream",
     "text": [
      "1\n",
      "2\n",
      "3\n",
      "4\n"
     ]
    }
   ],
   "source": [
    "i = 0\n",
    "while i < 5:\n",
    "    i+=1\n",
    "    print(i)\n",
    "    if i == 4:\n",
    "        break\n",
    "else:\n",
    "    print('You can have an else too by the way')"
   ]
  },
  {
   "cell_type": "markdown",
   "metadata": {},
   "source": [
    "# Exercise\n",
    "- Get a number from the user\n",
    "- List all of its prime factors"
   ]
  },
  {
   "cell_type": "code",
   "execution_count": 75,
   "metadata": {},
   "outputs": [
    {
     "name": "stdout",
     "output_type": "stream",
     "text": [
      "Invalid input. Please enter a valid integer.\n"
     ]
    }
   ],
   "source": [
    "# Enter Code Here\n",
    "\n",
    "# Function to find all prime factors of a number\n",
    "def prime_factors(n):\n",
    "    factors = []\n",
    "    # Find and add the factor of 2\n",
    "    while n % 2 == 0:\n",
    "        factors.append(2)\n",
    "        n //= 2\n",
    "\n",
    "    # Find the rest of the prime factors\n",
    "    divisor = 3\n",
    "    while n > 1:\n",
    "        while n % divisor == 0:\n",
    "            factors.append(divisor)\n",
    "            n //= divisor\n",
    "        divisor += 2  # Move to the next possible prime factor\n",
    "\n",
    "    return factors\n",
    "\n",
    "# Read a number from the user\n",
    "user_input = input(\"Enter a number: \")\n",
    "try:\n",
    "    number = int(user_input)\n",
    "    if number < 2:\n",
    "        print(\"Prime factors are not defined for numbers less than 2.\")\n",
    "    else:\n",
    "        factors = prime_factors(number)\n",
    "        print(f\"Prime factors of {number}: {factors}\")\n",
    "except ValueError:\n",
    "    print(\"Invalid input. Please enter a valid integer.\")\n"
   ]
  },
  {
   "cell_type": "markdown",
   "metadata": {},
   "source": [
    "# End of Exercise"
   ]
  },
  {
   "cell_type": "markdown",
   "metadata": {},
   "source": [
    "# For loops"
   ]
  },
  {
   "cell_type": "code",
   "execution_count": 76,
   "metadata": {},
   "outputs": [
    {
     "name": "stdout",
     "output_type": "stream",
     "text": [
      "1\n",
      "2.5\n",
      "Hello\n",
      "True\n"
     ]
    }
   ],
   "source": [
    "items = [1, 2.5, \"Hello\", True]\n",
    "for item in items:\n",
    "    print(item)\n",
    "#you can use break and continue here too"
   ]
  },
  {
   "cell_type": "code",
   "execution_count": 77,
   "metadata": {},
   "outputs": [
    {
     "name": "stdout",
     "output_type": "stream",
     "text": [
      "0\n",
      "1\n",
      "2\n",
      "3\n",
      "4\n",
      "5\n",
      "6\n",
      "7\n",
      "8\n",
      "9\n"
     ]
    }
   ],
   "source": [
    "for i in range(10):\n",
    "    print(i)"
   ]
  },
  {
   "cell_type": "code",
   "execution_count": 78,
   "metadata": {},
   "outputs": [
    {
     "name": "stdout",
     "output_type": "stream",
     "text": [
      "5\n",
      "6\n",
      "7\n",
      "8\n",
      "9\n"
     ]
    }
   ],
   "source": [
    "for i in range(5,10):\n",
    "    print(i)"
   ]
  },
  {
   "cell_type": "code",
   "execution_count": 79,
   "metadata": {},
   "outputs": [
    {
     "name": "stdout",
     "output_type": "stream",
     "text": [
      "5\n",
      "7\n",
      "9\n"
     ]
    }
   ],
   "source": [
    "for i in range(5,10,2):\n",
    "    print(i)"
   ]
  },
  {
   "cell_type": "code",
   "execution_count": 80,
   "metadata": {},
   "outputs": [
    {
     "name": "stdout",
     "output_type": "stream",
     "text": [
      "10\n",
      "9\n",
      "8\n",
      "7\n",
      "6\n"
     ]
    }
   ],
   "source": [
    "for i in range(10,5,-1):\n",
    "    print(i)"
   ]
  },
  {
   "cell_type": "code",
   "execution_count": 81,
   "metadata": {
    "scrolled": true
   },
   "outputs": [
    {
     "name": "stdout",
     "output_type": "stream",
     "text": [
      "1 a\n",
      "2 b\n",
      "3 c\n"
     ]
    }
   ],
   "source": [
    "for i, j in [(1,'a'), (2,'b'), (3, 'c')]:\n",
    "    print(i, j)"
   ]
  },
  {
   "cell_type": "code",
   "execution_count": 82,
   "metadata": {},
   "outputs": [
    {
     "name": "stdout",
     "output_type": "stream",
     "text": [
      "1 : a\n",
      "2 : b\n",
      "3 : c\n"
     ]
    }
   ],
   "source": [
    "d = {1:'a', 2:'b', 3:'c'}\n",
    "for key, value in d.items():\n",
    "    print(key,':',value)"
   ]
  },
  {
   "cell_type": "code",
   "execution_count": 83,
   "metadata": {},
   "outputs": [
    {
     "name": "stdout",
     "output_type": "stream",
     "text": [
      "0 : 1\n",
      "1 : 2.5\n",
      "2 : Hello\n",
      "3 : True\n"
     ]
    }
   ],
   "source": [
    "items = [1, 2.5, \"Hello\", True]\n",
    "for index, item in enumerate(items): #enumerate provides an index\n",
    "    print(index,\":\",item)"
   ]
  },
  {
   "cell_type": "markdown",
   "metadata": {},
   "source": [
    "# Exercise\n",
    "- Get a list from the user.\n",
    "- Print all the items that only appears once in the list."
   ]
  },
  {
   "cell_type": "code",
   "execution_count": 85,
   "metadata": {},
   "outputs": [
    {
     "name": "stdout",
     "output_type": "stream",
     "text": [
      "Items that appear only once in the list:\n",
      "1\n",
      "4\n",
      "5\n",
      "8\n",
      "6\n"
     ]
    }
   ],
   "source": [
    "# Enter Code Here\n",
    "\n",
    "user_input = input(\"Enter a list of elements separated by spaces: \")\n",
    "user_list = user_input.split()\n",
    "\n",
    "element_count = {}\n",
    "for item in user_list:\n",
    "    if item in element_count:\n",
    "        element_count[item] += 1\n",
    "    else:\n",
    "        element_count[item] = 1\n",
    "\n",
    "print(\"Items that appear only once in the list:\")\n",
    "for item, count in element_count.items():\n",
    "    if count == 1:\n",
    "        print(item)\n"
   ]
  },
  {
   "cell_type": "markdown",
   "metadata": {},
   "source": [
    "# End of Exercise"
   ]
  },
  {
   "cell_type": "markdown",
   "metadata": {},
   "source": [
    "# List Comprehension </br>\n",
    "List comprehension offers a shorter syntax when you want to create a new list based on the values of an existing list. </br>\n",
    "Result = [Function for Value in iterable if Condition]"
   ]
  },
  {
   "cell_type": "code",
   "execution_count": 86,
   "metadata": {},
   "outputs": [
    {
     "name": "stdout",
     "output_type": "stream",
     "text": [
      "['apple', 'banana', 'mango']\n"
     ]
    }
   ],
   "source": [
    "fruits = [\"apple\", \"banana\", \"cherry\", \"kiwi\", \"mango\"]\n",
    "newlist = []\n",
    "\n",
    "for x in fruits:\n",
    "  if \"a\" in x:\n",
    "    newlist.append(x)\n",
    "\n",
    "print(newlist)"
   ]
  },
  {
   "cell_type": "code",
   "execution_count": 87,
   "metadata": {},
   "outputs": [
    {
     "name": "stdout",
     "output_type": "stream",
     "text": [
      "['apple', 'banana', 'mango']\n"
     ]
    }
   ],
   "source": [
    "fruits = [\"apple\", \"banana\", \"cherry\", \"kiwi\", \"mango\"]\n",
    "\n",
    "newlist = [x for x in fruits if \"a\" in x]\n",
    "\n",
    "print(newlist)"
   ]
  },
  {
   "cell_type": "code",
   "execution_count": 88,
   "metadata": {},
   "outputs": [
    {
     "name": "stdout",
     "output_type": "stream",
     "text": [
      "[0, 1, 2, 3, 4, 5, 6, 7, 8, 9]\n"
     ]
    }
   ],
   "source": [
    "x = [i for i in range(10)]\n",
    "print(x)"
   ]
  },
  {
   "cell_type": "code",
   "execution_count": 89,
   "metadata": {},
   "outputs": [
    {
     "name": "stdout",
     "output_type": "stream",
     "text": [
      "[0, 1, 4, 9, 16, 25, 36, 49, 64, 81]\n"
     ]
    }
   ],
   "source": [
    "x = [i*i for i in range(10)]\n",
    "print(x)"
   ]
  },
  {
   "cell_type": "code",
   "execution_count": 90,
   "metadata": {},
   "outputs": [
    {
     "name": "stdout",
     "output_type": "stream",
     "text": [
      "[0, 2, 4, 6, 8]\n"
     ]
    }
   ],
   "source": [
    "x = [i for i in range(10) if i%2 == 0]\n",
    "print(x)"
   ]
  },
  {
   "cell_type": "code",
   "execution_count": 91,
   "metadata": {},
   "outputs": [
    {
     "name": "stdout",
     "output_type": "stream",
     "text": [
      "[2, 5.0, 'HelloHello', [3, 4, 3, 4]]\n"
     ]
    }
   ],
   "source": [
    "x = [1,2.5,\"Hello\",[3,4]]\n",
    "y = [i*2 for i in x]\n",
    "print(y)"
   ]
  },
  {
   "cell_type": "markdown",
   "metadata": {},
   "source": [
    "nested list comprehension is used when we have multiple for loops / lists/ conditions </br>"
   ]
  },
  {
   "cell_type": "code",
   "execution_count": 92,
   "metadata": {},
   "outputs": [
    {
     "name": "stdout",
     "output_type": "stream",
     "text": [
      "[4, 16, 36, 64, 100, 144, 196, 256, 324, 400]\n"
     ]
    }
   ],
   "source": [
    "Numbers = [[1,2,3,4,5,6,7,8,9,10],\n",
    "          [11,12,13,14,15,16,17,18,19,20]]\n",
    "Result = []\n",
    "for list in Numbers:\n",
    "   Squares = [Number ** 2 for Number in list if Number % 2 == 0]\n",
    "   Result.extend(Squares)\n",
    "print(Result)"
   ]
  },
  {
   "cell_type": "code",
   "execution_count": 93,
   "metadata": {},
   "outputs": [
    {
     "name": "stdout",
     "output_type": "stream",
     "text": [
      "[4, 16, 36, 64, 100, 144, 196, 256, 324, 400]\n"
     ]
    }
   ],
   "source": [
    "Squares = [Number ** 2  for list in Numbers  for  Number in list  if Number % 2 == 0]\n",
    "print(Squares)"
   ]
  },
  {
   "cell_type": "code",
   "execution_count": 94,
   "metadata": {},
   "outputs": [
    {
     "name": "stdout",
     "output_type": "stream",
     "text": [
      "[0, 0, 1, 0, 1, 2, 0, 1, 2, 3]\n",
      "[[], [0], [0, 1], [0, 1, 2], [0, 1, 2, 3]]\n"
     ]
    }
   ],
   "source": [
    "\n",
    "x = [j for i in range(5) for j in range(i)]\n",
    "print(x)\n",
    "\n",
    "x = [[j for j in range(i)] for i in range(5)]\n",
    "print(x)"
   ]
  },
  {
   "cell_type": "code",
   "execution_count": 95,
   "metadata": {},
   "outputs": [
    {
     "name": "stdout",
     "output_type": "stream",
     "text": [
      "[[1, 2, 3], [4, 5, 6], [7, 8, 9]]\n",
      "[1, 2, 3, 4, 5, 6, 7, 8, 9]\n"
     ]
    }
   ],
   "source": [
    "l = [[1,2,3],[4,5,6],[7,8,9]]\n",
    "print(l)\n",
    "print([j for i in l for j in i])"
   ]
  },
  {
   "cell_type": "code",
   "execution_count": 96,
   "metadata": {},
   "outputs": [
    {
     "name": "stdout",
     "output_type": "stream",
     "text": [
      "[5, 7, 9]\n"
     ]
    }
   ],
   "source": [
    "a = [1,2,3]\n",
    "b = [4,5,6,7]\n",
    "x = [i+j for i, j in zip(a,b)] #zip gets tuples \n",
    "print(x)"
   ]
  },
  {
   "cell_type": "code",
   "execution_count": 97,
   "metadata": {},
   "outputs": [
    {
     "name": "stdout",
     "output_type": "stream",
     "text": [
      "[6, 15, 24]\n",
      "[12, 15, 18]\n"
     ]
    }
   ],
   "source": [
    "l = [[1,2,3],[4,5,6],[7,8,9]]\n",
    "x = [sum(i) for i in l]\n",
    "print(x)\n",
    "x = [sum(i) for i in zip(*l)]\n",
    "print(x)"
   ]
  },
  {
   "cell_type": "markdown",
   "metadata": {},
   "source": [
    "# Exercise\n",
    "- Do a Matrix-by-Vector multiplication in one line"
   ]
  },
  {
   "cell_type": "code",
   "execution_count": 101,
   "metadata": {},
   "outputs": [
    {
     "name": "stdout",
     "output_type": "stream",
     "text": [
      "[20 47 74]\n"
     ]
    }
   ],
   "source": [
    "# Enter Code Here\n",
    "import numpy as np\n",
    "\n",
    "matrix = np.array([[1, 2, 3], [4, 5, 6], [7, 8, 9]])\n",
    "vector = np.array([2, 3, 4])\n",
    "\n",
    "result = np.dot(matrix, vector)\n",
    "\n",
    "print(result)\n"
   ]
  },
  {
   "cell_type": "markdown",
   "metadata": {},
   "source": [
    "# End of Exercise"
   ]
  },
  {
   "cell_type": "markdown",
   "metadata": {},
   "source": [
    "# Dictionary Comprehension"
   ]
  },
  {
   "cell_type": "code",
   "execution_count": 102,
   "metadata": {},
   "outputs": [
    {
     "name": "stdout",
     "output_type": "stream",
     "text": [
      "{1: 4, 2: 5, 3: 6}\n"
     ]
    }
   ],
   "source": [
    "a = [1,2,3]\n",
    "b = [4,5,6,7]\n",
    "x = {i:j for i, j in zip(a,b)}\n",
    "print(x)"
   ]
  },
  {
   "cell_type": "code",
   "execution_count": 103,
   "metadata": {},
   "outputs": [
    {
     "name": "stdout",
     "output_type": "stream",
     "text": [
      "{1: 'a', 2: 'b', 3: 'c'}\n"
     ]
    }
   ],
   "source": [
    "d = {'a':1, 'b':2, 'c':3}\n",
    "x = {j:i for i, j in d.items()}\n",
    "print(x)"
   ]
  },
  {
   "cell_type": "code",
   "execution_count": 104,
   "metadata": {},
   "outputs": [
    {
     "name": "stdout",
     "output_type": "stream",
     "text": [
      "{0: 0, 1: 1, 4: 2, 9: 3, 16: 4, 25: 5, 36: 6, 49: 7, 64: 8, 81: 9}\n"
     ]
    }
   ],
   "source": [
    "x = {i*i:i for i in range(10)}\n",
    "print(x)"
   ]
  },
  {
   "cell_type": "markdown",
   "metadata": {},
   "source": [
    "# Set and Tuple Comprehension"
   ]
  },
  {
   "cell_type": "code",
   "execution_count": 105,
   "metadata": {},
   "outputs": [
    {
     "name": "stdout",
     "output_type": "stream",
     "text": [
      "{0, 1, 2, 3, 4, 5, 6, 7, 8, 9}\n"
     ]
    }
   ],
   "source": [
    "x = {i for i in range(10)}\n",
    "print(x)"
   ]
  },
  {
   "cell_type": "code",
   "execution_count": 106,
   "metadata": {},
   "outputs": [
    {
     "name": "stdout",
     "output_type": "stream",
     "text": [
      "(0, 1, 2, 3, 4, 5, 6, 7, 8, 9)\n"
     ]
    }
   ],
   "source": [
    "x = tuple(i for i in range(10))\n",
    "print(x)"
   ]
  },
  {
   "cell_type": "markdown",
   "metadata": {},
   "source": [
    "# Functions"
   ]
  },
  {
   "cell_type": "code",
   "execution_count": 107,
   "metadata": {},
   "outputs": [
    {
     "name": "stdout",
     "output_type": "stream",
     "text": [
      "This is Sparta\n"
     ]
    }
   ],
   "source": [
    "def print_this(x):\n",
    "    print(\"This is\", x)\n",
    "\n",
    "print_this(\"Sparta\")"
   ]
  },
  {
   "cell_type": "code",
   "execution_count": 108,
   "metadata": {},
   "outputs": [
    {
     "name": "stdout",
     "output_type": "stream",
     "text": [
      "100\n"
     ]
    }
   ],
   "source": [
    "def sqr(x):\n",
    "    return x*x\n",
    "\n",
    "print(sqr(10))"
   ]
  },
  {
   "cell_type": "code",
   "execution_count": 109,
   "metadata": {},
   "outputs": [
    {
     "name": "stdout",
     "output_type": "stream",
     "text": [
      "1000\n",
      "1000\n",
      "1000\n"
     ]
    }
   ],
   "source": [
    "def power(x, n):\n",
    "    return x**n\n",
    "\n",
    "print(power(10,3))\n",
    "print(power(10,n=3))\n",
    "print(power(n=3,x=10))"
   ]
  },
  {
   "cell_type": "code",
   "execution_count": 110,
   "metadata": {},
   "outputs": [
    {
     "ename": "SyntaxError",
     "evalue": "positional argument follows keyword argument (1808846441.py, line 1)",
     "output_type": "error",
     "traceback": [
      "\u001b[1;36m  Input \u001b[1;32mIn [110]\u001b[1;36m\u001b[0m\n\u001b[1;33m    print(power(x=10,3))\u001b[0m\n\u001b[1;37m                      ^\u001b[0m\n\u001b[1;31mSyntaxError\u001b[0m\u001b[1;31m:\u001b[0m positional argument follows keyword argument\n"
     ]
    }
   ],
   "source": [
    "print(power(x=10,3))"
   ]
  },
  {
   "cell_type": "code",
   "execution_count": 111,
   "metadata": {},
   "outputs": [
    {
     "name": "stdout",
     "output_type": "stream",
     "text": [
      "(16, 2.0)\n"
     ]
    }
   ],
   "source": [
    "def sqr_and_root(x):\n",
    "    return x*x, x**0.5\n",
    "\n",
    "print(sqr_and_root(4))"
   ]
  },
  {
   "cell_type": "code",
   "execution_count": 112,
   "metadata": {},
   "outputs": [
    {
     "name": "stdout",
     "output_type": "stream",
     "text": [
      "square is 16 and root is 2.0\n",
      "square is 256\n"
     ]
    }
   ],
   "source": [
    "s, r = sqr_and_root(4)\n",
    "print(\"square is\", s, \"and root is\", r)\n",
    "\n",
    "s, _ = sqr_and_root(16) # _ is a valid variable name, usually used to mean don't care\n",
    "print(\"square is\", s)"
   ]
  },
  {
   "cell_type": "code",
   "execution_count": 113,
   "metadata": {},
   "outputs": [
    {
     "name": "stdout",
     "output_type": "stream",
     "text": [
      "(16, 2.0)\n",
      "16\n"
     ]
    }
   ],
   "source": [
    "def sqr_and_root(x):\n",
    "    if x >= 0:\n",
    "        return x*x, x**0.5\n",
    "    else:\n",
    "        return x*x\n",
    "\n",
    "print(sqr_and_root(4))\n",
    "print(sqr_and_root(-4))"
   ]
  },
  {
   "cell_type": "code",
   "execution_count": 114,
   "metadata": {},
   "outputs": [
    {
     "ename": "TypeError",
     "evalue": "cannot unpack non-iterable int object",
     "output_type": "error",
     "traceback": [
      "\u001b[1;31m---------------------------------------------------------------------------\u001b[0m",
      "\u001b[1;31mTypeError\u001b[0m                                 Traceback (most recent call last)",
      "\u001b[1;32mc:\\Users\\Lenovo\\Desktop\\Commented_Python Tutorial.ipynb Cell 159\u001b[0m in \u001b[0;36m<module>\u001b[1;34m\u001b[0m\n\u001b[1;32m----> <a href='vscode-notebook-cell:/c%3A/Users/Lenovo/Desktop/Commented_Python%20Tutorial.ipynb#Y314sZmlsZQ%3D%3D?line=0'>1</a>\u001b[0m s, r \u001b[39m=\u001b[39m sqr_and_root(\u001b[39m-\u001b[39m\u001b[39m4\u001b[39m)\n",
      "\u001b[1;31mTypeError\u001b[0m: cannot unpack non-iterable int object"
     ]
    }
   ],
   "source": [
    "s, r = sqr_and_root(-4) #error"
   ]
  },
  {
   "cell_type": "code",
   "execution_count": 115,
   "metadata": {},
   "outputs": [
    {
     "name": "stdout",
     "output_type": "stream",
     "text": [
      "None\n"
     ]
    }
   ],
   "source": [
    "def do_nothing():\n",
    "    pass\n",
    "\n",
    "print(do_nothing())"
   ]
  },
  {
   "cell_type": "code",
   "execution_count": 116,
   "metadata": {},
   "outputs": [
    {
     "name": "stdout",
     "output_type": "stream",
     "text": [
      "12\n",
      "60\n"
     ]
    },
    {
     "ename": "TypeError",
     "evalue": "prod() missing 1 required positional argument: 'z'",
     "output_type": "error",
     "traceback": [
      "\u001b[1;31m---------------------------------------------------------------------------\u001b[0m",
      "\u001b[1;31mTypeError\u001b[0m                                 Traceback (most recent call last)",
      "\u001b[1;32mc:\\Users\\Lenovo\\Desktop\\Commented_Python Tutorial.ipynb Cell 161\u001b[0m in \u001b[0;36m<module>\u001b[1;34m\u001b[0m\n\u001b[0;32m      <a href='vscode-notebook-cell:/c%3A/Users/Lenovo/Desktop/Commented_Python%20Tutorial.ipynb#Y316sZmlsZQ%3D%3D?line=6'>7</a>\u001b[0m     \u001b[39mreturn\u001b[39;00m x\u001b[39m*\u001b[39my\u001b[39m*\u001b[39mz\n\u001b[0;32m      <a href='vscode-notebook-cell:/c%3A/Users/Lenovo/Desktop/Commented_Python%20Tutorial.ipynb#Y316sZmlsZQ%3D%3D?line=8'>9</a>\u001b[0m \u001b[39mprint\u001b[39m(prod(\u001b[39m3\u001b[39m,\u001b[39m4\u001b[39m,\u001b[39m5\u001b[39m))\n\u001b[1;32m---> <a href='vscode-notebook-cell:/c%3A/Users/Lenovo/Desktop/Commented_Python%20Tutorial.ipynb#Y316sZmlsZQ%3D%3D?line=9'>10</a>\u001b[0m \u001b[39mprint\u001b[39m(prod(\u001b[39m3\u001b[39;49m,\u001b[39m4\u001b[39;49m))\n",
      "\u001b[1;31mTypeError\u001b[0m: prod() missing 1 required positional argument: 'z'"
     ]
    }
   ],
   "source": [
    "def prod(x,y):\n",
    "    return x*y\n",
    "\n",
    "print(prod(3,4))\n",
    "\n",
    "def prod(x,y,z):\n",
    "    return x*y*z\n",
    "\n",
    "print(prod(3,4,5))\n",
    "print(prod(3,4))"
   ]
  },
  {
   "cell_type": "code",
   "execution_count": 117,
   "metadata": {},
   "outputs": [
    {
     "name": "stdout",
     "output_type": "stream",
     "text": [
      "60\n",
      "12\n"
     ]
    }
   ],
   "source": [
    "def prod(x,y,z=1):\n",
    "    return x*y*z\n",
    "\n",
    "print(prod(3,4,5))\n",
    "print(prod(3,4))"
   ]
  },
  {
   "cell_type": "code",
   "execution_count": 118,
   "metadata": {},
   "outputs": [
    {
     "name": "stdout",
     "output_type": "stream",
     "text": [
      "60\n",
      "12\n",
      "3\n",
      "1\n"
     ]
    }
   ],
   "source": [
    "def prod(*l):\n",
    "    p = 1\n",
    "    for i in l:\n",
    "        p *= i\n",
    "    return p\n",
    "\n",
    "print(prod(3,4,5))\n",
    "print(prod(3,4))\n",
    "print(prod(3))\n",
    "print(prod())"
   ]
  },
  {
   "cell_type": "code",
   "execution_count": 119,
   "metadata": {},
   "outputs": [
    {
     "name": "stdout",
     "output_type": "stream",
     "text": [
      "6\n",
      "6\n"
     ]
    }
   ],
   "source": [
    "def prod(x,y,z=1):\n",
    "    return x*y*z\n",
    "\n",
    "l = [1,2,3]\n",
    "print(prod(*l))\n",
    "\n",
    "def prod(*l):\n",
    "    p = 1\n",
    "    for i in l:\n",
    "        p *= i\n",
    "    return p\n",
    "\n",
    "l = [1,2,3]\n",
    "print(prod(*l))"
   ]
  },
  {
   "cell_type": "code",
   "execution_count": 120,
   "metadata": {},
   "outputs": [
    {
     "name": "stdout",
     "output_type": "stream",
     "text": [
      "1000\n"
     ]
    }
   ],
   "source": [
    "def power(x, n):\n",
    "    return x**n\n",
    "\n",
    "d = {'x':10, 'n': 3}\n",
    "print(power(**d))"
   ]
  },
  {
   "cell_type": "code",
   "execution_count": 121,
   "metadata": {},
   "outputs": [
    {
     "ename": "TypeError",
     "evalue": "power() missing 1 required positional argument: 'n'",
     "output_type": "error",
     "traceback": [
      "\u001b[1;31m---------------------------------------------------------------------------\u001b[0m",
      "\u001b[1;31mTypeError\u001b[0m                                 Traceback (most recent call last)",
      "\u001b[1;32mc:\\Users\\Lenovo\\Desktop\\Commented_Python Tutorial.ipynb Cell 166\u001b[0m in \u001b[0;36m<module>\u001b[1;34m\u001b[0m\n\u001b[0;32m      <a href='vscode-notebook-cell:/c%3A/Users/Lenovo/Desktop/Commented_Python%20Tutorial.ipynb#Y324sZmlsZQ%3D%3D?line=0'>1</a>\u001b[0m d \u001b[39m=\u001b[39m {\u001b[39m'\u001b[39m\u001b[39mx\u001b[39m\u001b[39m'\u001b[39m:\u001b[39m10\u001b[39m}\n\u001b[1;32m----> <a href='vscode-notebook-cell:/c%3A/Users/Lenovo/Desktop/Commented_Python%20Tutorial.ipynb#Y324sZmlsZQ%3D%3D?line=1'>2</a>\u001b[0m \u001b[39mprint\u001b[39m(power(\u001b[39m*\u001b[39m\u001b[39m*\u001b[39md))\n",
      "\u001b[1;31mTypeError\u001b[0m: power() missing 1 required positional argument: 'n'"
     ]
    }
   ],
   "source": [
    "d = {'x':10}\n",
    "print(power(**d))"
   ]
  },
  {
   "cell_type": "code",
   "execution_count": 122,
   "metadata": {},
   "outputs": [
    {
     "ename": "TypeError",
     "evalue": "power() got an unexpected keyword argument 'a'",
     "output_type": "error",
     "traceback": [
      "\u001b[1;31m---------------------------------------------------------------------------\u001b[0m",
      "\u001b[1;31mTypeError\u001b[0m                                 Traceback (most recent call last)",
      "\u001b[1;32mc:\\Users\\Lenovo\\Desktop\\Commented_Python Tutorial.ipynb Cell 167\u001b[0m in \u001b[0;36m<module>\u001b[1;34m\u001b[0m\n\u001b[0;32m      <a href='vscode-notebook-cell:/c%3A/Users/Lenovo/Desktop/Commented_Python%20Tutorial.ipynb#Y325sZmlsZQ%3D%3D?line=0'>1</a>\u001b[0m d \u001b[39m=\u001b[39m {\u001b[39m'\u001b[39m\u001b[39mx\u001b[39m\u001b[39m'\u001b[39m:\u001b[39m10\u001b[39m, \u001b[39m'\u001b[39m\u001b[39mn\u001b[39m\u001b[39m'\u001b[39m:\u001b[39m3\u001b[39m, \u001b[39m'\u001b[39m\u001b[39ma\u001b[39m\u001b[39m'\u001b[39m:\u001b[39m4\u001b[39m}\n\u001b[1;32m----> <a href='vscode-notebook-cell:/c%3A/Users/Lenovo/Desktop/Commented_Python%20Tutorial.ipynb#Y325sZmlsZQ%3D%3D?line=1'>2</a>\u001b[0m \u001b[39mprint\u001b[39m(power(\u001b[39m*\u001b[39m\u001b[39m*\u001b[39md))\n",
      "\u001b[1;31mTypeError\u001b[0m: power() got an unexpected keyword argument 'a'"
     ]
    }
   ],
   "source": [
    "d = {'x':10, 'n':3, 'a':4}\n",
    "print(power(**d))"
   ]
  },
  {
   "cell_type": "code",
   "execution_count": 123,
   "metadata": {},
   "outputs": [
    {
     "name": "stdout",
     "output_type": "stream",
     "text": [
      "60\n",
      "12\n"
     ]
    }
   ],
   "source": [
    "def prod(x,y,z=1):\n",
    "    return x*y*z\n",
    "\n",
    "d = {'x':3, 'y':4, 'z':5}\n",
    "print(prod(**d))\n",
    "\n",
    "d = {'x':3, 'y':4}\n",
    "print(prod(**d))"
   ]
  },
  {
   "cell_type": "code",
   "execution_count": 124,
   "metadata": {},
   "outputs": [
    {
     "name": "stdout",
     "output_type": "stream",
     "text": [
      "I received 3 elements\n",
      "They are {'hello': 1, 'bye': 'world', 'x': True}\n"
     ]
    }
   ],
   "source": [
    "def misc(**k):\n",
    "    print('I received %i elements' % len(k))\n",
    "    print('They are', k)\n",
    "\n",
    "misc(hello=1, bye='world', x=True)"
   ]
  },
  {
   "cell_type": "code",
   "execution_count": 125,
   "metadata": {},
   "outputs": [
    {
     "name": "stdout",
     "output_type": "stream",
     "text": [
      "0 ['hello']\n"
     ]
    }
   ],
   "source": [
    "def do_changes(x,l):\n",
    "    x += 1\n",
    "    l.append('hello')\n",
    "\n",
    "x, l = 0, []\n",
    "do_changes(x,l)\n",
    "print(x, l)"
   ]
  },
  {
   "cell_type": "code",
   "execution_count": 126,
   "metadata": {},
   "outputs": [
    {
     "name": "stdout",
     "output_type": "stream",
     "text": [
      "0 []\n"
     ]
    }
   ],
   "source": [
    "def do_changes(x,l):\n",
    "    x += 1\n",
    "    l = l + ['hello']\n",
    "\n",
    "x, l = 0, []\n",
    "do_changes(x,l)\n",
    "print(x, l)"
   ]
  },
  {
   "cell_type": "code",
   "execution_count": 127,
   "metadata": {},
   "outputs": [
    {
     "name": "stdout",
     "output_type": "stream",
     "text": [
      "12\n",
      "14\n"
     ]
    }
   ],
   "source": [
    "def dbl(x):\n",
    "    return x*2\n",
    "\n",
    "def sqr(x):\n",
    "    return x*x\n",
    "\n",
    "def apply_and_sum(l, fn):\n",
    "    return sum(fn(i) for i in l)\n",
    "\n",
    "print(apply_and_sum([1,2,3], dbl))\n",
    "print(apply_and_sum([1,2,3], sqr))"
   ]
  },
  {
   "cell_type": "code",
   "execution_count": 128,
   "metadata": {},
   "outputs": [
    {
     "name": "stdout",
     "output_type": "stream",
     "text": [
      "12\n",
      "14\n",
      "6\n"
     ]
    }
   ],
   "source": [
    "dbl = lambda x: x*2\n",
    "sqr = lambda x: x*x\n",
    "\n",
    "def apply_and_sum(l, fn = lambda x: x):\n",
    "    return sum(fn(i) for i in l)\n",
    "\n",
    "print(apply_and_sum([1,2,3], dbl))\n",
    "print(apply_and_sum([1,2,3], sqr))\n",
    "print(apply_and_sum([1,2,3]))"
   ]
  },
  {
   "cell_type": "code",
   "execution_count": 129,
   "metadata": {},
   "outputs": [
    {
     "name": "stdout",
     "output_type": "stream",
     "text": [
      "5\n",
      "11\n"
     ]
    }
   ],
   "source": [
    "no_param = lambda:5\n",
    "print(no_param())\n",
    "\n",
    "two_param = lambda x,y:x+y\n",
    "print(two_param(5, 6))"
   ]
  },
  {
   "cell_type": "markdown",
   "metadata": {},
   "source": [
    "# Exercise\n",
    "- write a reduction function. e.g. reduce([1,2,3,4], lambda x,y: x*y) = 24"
   ]
  },
  {
   "cell_type": "code",
   "execution_count": 132,
   "metadata": {},
   "outputs": [
    {
     "name": "stdout",
     "output_type": "stream",
     "text": [
      "24\n"
     ]
    }
   ],
   "source": [
    "# Enter Code Here\n",
    "def reduce(lst, binary_function):\n",
    "    if len(lst) == 0:\n",
    "        raise ValueError(\"Input list must not be empty\")\n",
    "    result = lst[0]\n",
    "    for element in lst[1:]:\n",
    "        result = binary_function(result, element)\n",
    "    return result\n",
    "\n",
    "# Example usage:\n",
    "input_list = [1, 2, 3, 4]\n",
    "product = reduce(input_list, lambda x, y: x * y)\n",
    "print(product)  # Output will be 24\n"
   ]
  },
  {
   "cell_type": "markdown",
   "metadata": {},
   "source": [
    "# End of Exercise"
   ]
  },
  {
   "cell_type": "markdown",
   "metadata": {},
   "source": [
    "# Variable Scope"
   ]
  },
  {
   "cell_type": "markdown",
   "metadata": {},
   "source": [
    "Global is used to access and modify global variables from within a function, while nonlocal is used to access and modify variables from the nearest enclosing scope that is not global"
   ]
  },
  {
   "cell_type": "code",
   "execution_count": 133,
   "metadata": {},
   "outputs": [
    {
     "name": "stdout",
     "output_type": "stream",
     "text": [
      "1\n",
      "hello 2\n",
      "1\n"
     ]
    }
   ],
   "source": [
    "def hello():\n",
    "    x = 2\n",
    "    print(\"hello\", x)\n",
    "\n",
    "x=1\n",
    "print(x)\n",
    "hello()\n",
    "print(x)"
   ]
  },
  {
   "cell_type": "code",
   "execution_count": 134,
   "metadata": {},
   "outputs": [
    {
     "name": "stdout",
     "output_type": "stream",
     "text": [
      "global 1\n",
      "hello 2\n",
      "global 2\n"
     ]
    }
   ],
   "source": [
    "def hello():\n",
    "    global x\n",
    "    x = 2\n",
    "    print(\"hello\", x)\n",
    "\n",
    "x=1\n",
    "print(\"global\", x)\n",
    "hello()\n",
    "print(\"global\", x)"
   ]
  },
  {
   "cell_type": "code",
   "execution_count": 135,
   "metadata": {},
   "outputs": [
    {
     "name": "stdout",
     "output_type": "stream",
     "text": [
      "global 1\n",
      "hello 2\n",
      "bye 3\n",
      "hello 2\n",
      "global 1\n"
     ]
    }
   ],
   "source": [
    "def hello():\n",
    "    x = 2\n",
    "    \n",
    "    def bye():\n",
    "        x = 3\n",
    "        print(\"bye\", x)\n",
    "    \n",
    "    print(\"hello\", x)\n",
    "    bye()\n",
    "    print(\"hello\", x)\n",
    "    \n",
    "\n",
    "x=1\n",
    "print(\"global\", x)\n",
    "hello()\n",
    "print(\"global\", x)"
   ]
  },
  {
   "cell_type": "code",
   "execution_count": 136,
   "metadata": {},
   "outputs": [
    {
     "name": "stdout",
     "output_type": "stream",
     "text": [
      "global 1\n",
      "hello 2\n",
      "bye 3\n",
      "hello 2\n",
      "global 3\n"
     ]
    }
   ],
   "source": [
    "def hello():\n",
    "    x = 2\n",
    "    \n",
    "    def bye():\n",
    "        global x\n",
    "        x = 3\n",
    "        print(\"bye\", x)\n",
    "    \n",
    "    print(\"hello\", x)\n",
    "    bye()\n",
    "    print(\"hello\", x)\n",
    "    \n",
    "\n",
    "x=1\n",
    "print(\"global\", x)\n",
    "hello()\n",
    "print(\"global\", x)"
   ]
  },
  {
   "cell_type": "code",
   "execution_count": 137,
   "metadata": {},
   "outputs": [
    {
     "name": "stdout",
     "output_type": "stream",
     "text": [
      "global 1\n",
      "hello 2\n",
      "bye 3\n",
      "hello 3\n",
      "global 1\n"
     ]
    }
   ],
   "source": [
    "def hello():\n",
    "    x = 2\n",
    "    \n",
    "    def bye():\n",
    "        nonlocal x\n",
    "        x = 3\n",
    "        print(\"bye\", x)\n",
    "    \n",
    "    print(\"hello\", x)\n",
    "    bye()\n",
    "    print(\"hello\", x)\n",
    "    \n",
    "\n",
    "x=1\n",
    "print(\"global\", x)\n",
    "hello()\n",
    "print(\"global\", x)"
   ]
  },
  {
   "cell_type": "markdown",
   "metadata": {},
   "source": [
    "### Note: you can read a variable from an outer scope with global or nonloacal. They are only neccessary for variable assignment."
   ]
  },
  {
   "cell_type": "markdown",
   "metadata": {},
   "source": [
    "# Common Mistakes"
   ]
  },
  {
   "cell_type": "code",
   "execution_count": 138,
   "metadata": {},
   "outputs": [
    {
     "name": "stdout",
     "output_type": "stream",
     "text": [
      "['Hello', 8, 4, 2, 1]\n",
      "[8, 4, 2, 1]\n",
      "[8, 4, 2, 1, 8, 4, 2, 1]\n",
      "[8, 4, 2, 1, 8, 4, 2, 1, 8, 4, 2, 1]\n",
      "[8, 4, 2, 1]\n",
      "[8, 4, 2, 1, 8, 4, 2, 1, 8, 4, 2, 1, 8, 4, 2, 1]\n"
     ]
    }
   ],
   "source": [
    "def addSeq(n, l=[]):\n",
    "    while n != 0:\n",
    "        l.append(n)\n",
    "        n //= 2\n",
    "    return l\n",
    "\n",
    "print(addSeq(8, ['Hello']))\n",
    "print(addSeq(8))\n",
    "print(addSeq(8))\n",
    "print(addSeq(8))\n",
    "print(addSeq(8,[]))\n",
    "print(addSeq(8))"
   ]
  },
  {
   "cell_type": "markdown",
   "metadata": {},
   "source": [
    "# ANSWER BELOW\n",
    "\n",
    "# ANSWER BELOW\n",
    "\n",
    "# ANSWER BELOW\n",
    "\n",
    "# ANSWER BELOW"
   ]
  },
  {
   "cell_type": "markdown",
   "metadata": {},
   "source": [
    "dont use default values for mutables as they will not be assigned to them except for the first time. </br>\n",
    "Python's default arguments are evaluated once when the function is defined, not each time the function is called.</br>\n",
    "This means that if you use a mutable default argument and mutate it, you will and have mutated that object for all future calls to the function as well. </br>"
   ]
  },
  {
   "cell_type": "code",
   "execution_count": 139,
   "metadata": {},
   "outputs": [
    {
     "name": "stdout",
     "output_type": "stream",
     "text": [
      "['Hello', 8, 4, 2, 1]\n",
      "[8, 4, 2, 1]\n",
      "[8, 4, 2, 1]\n",
      "[8, 4, 2, 1]\n",
      "[8, 4, 2, 1]\n",
      "[8, 4, 2, 1]\n"
     ]
    }
   ],
   "source": [
    "def addSeq(n, l=None):\n",
    "    l = l or []\n",
    "    while n != 0:\n",
    "        l.append(n)\n",
    "        n //= 2\n",
    "    return l\n",
    "\n",
    "print(addSeq(8, ['Hello']))\n",
    "print(addSeq(8))\n",
    "print(addSeq(8))\n",
    "print(addSeq(8))\n",
    "print(addSeq(8,[]))\n",
    "print(addSeq(8))"
   ]
  },
  {
   "cell_type": "code",
   "execution_count": 140,
   "metadata": {},
   "outputs": [
    {
     "name": "stdout",
     "output_type": "stream",
     "text": [
      "[[10], [10], [10], [10]]\n"
     ]
    }
   ],
   "source": [
    "l = [[]]*4\n",
    "l[0].append(10)\n",
    "\n",
    "print(l)"
   ]
  },
  {
   "cell_type": "markdown",
   "metadata": {},
   "source": [
    "# ANSWER BELOW\n",
    "\n",
    "# ANSWER BELOW\n",
    "\n",
    "# ANSWER BELOW\n",
    "\n",
    "# ANSWER BELOW"
   ]
  },
  {
   "cell_type": "code",
   "execution_count": 141,
   "metadata": {},
   "outputs": [
    {
     "name": "stdout",
     "output_type": "stream",
     "text": [
      "[[10], [], [], []]\n"
     ]
    }
   ],
   "source": [
    "l = [[] for _ in range(4)]\n",
    "l[0].append(10)\n",
    "\n",
    "print(l)"
   ]
  },
  {
   "cell_type": "markdown",
   "metadata": {},
   "source": [
    "# Importing"
   ]
  },
  {
   "cell_type": "code",
   "execution_count": 142,
   "metadata": {},
   "outputs": [],
   "source": [
    "%load_ext autoreload\n",
    "%autoreload 2\n",
    "#jupyter magic to reload package the have been changed"
   ]
  },
  {
   "cell_type": "code",
   "execution_count": 143,
   "metadata": {},
   "outputs": [
    {
     "name": "stdout",
     "output_type": "stream",
     "text": [
      "10\n"
     ]
    }
   ],
   "source": [
    "import math\n",
    "\n",
    "print(math.gcd(100,30))"
   ]
  },
  {
   "cell_type": "code",
   "execution_count": 144,
   "metadata": {},
   "outputs": [
    {
     "ename": "ModuleNotFoundError",
     "evalue": "No module named 'fun'",
     "output_type": "error",
     "traceback": [
      "\u001b[1;31m---------------------------------------------------------------------------\u001b[0m",
      "\u001b[1;31mModuleNotFoundError\u001b[0m                       Traceback (most recent call last)",
      "\u001b[1;32mc:\\Users\\Lenovo\\Desktop\\Commented_Python Tutorial.ipynb Cell 197\u001b[0m in \u001b[0;36m<module>\u001b[1;34m\u001b[0m\n\u001b[1;32m----> <a href='vscode-notebook-cell:/c%3A/Users/Lenovo/Desktop/Commented_Python%20Tutorial.ipynb#Y400sZmlsZQ%3D%3D?line=0'>1</a>\u001b[0m \u001b[39mimport\u001b[39;00m \u001b[39mfun\u001b[39;00m\n\u001b[0;32m      <a href='vscode-notebook-cell:/c%3A/Users/Lenovo/Desktop/Commented_Python%20Tutorial.ipynb#Y400sZmlsZQ%3D%3D?line=2'>3</a>\u001b[0m \u001b[39mprint\u001b[39m([fun\u001b[39m.\u001b[39mfib(i) \u001b[39mfor\u001b[39;00m i \u001b[39min\u001b[39;00m \u001b[39mrange\u001b[39m(\u001b[39m10\u001b[39m)])\n",
      "\u001b[1;31mModuleNotFoundError\u001b[0m: No module named 'fun'"
     ]
    }
   ],
   "source": [
    "import fun\n",
    "\n",
    "print([fun.fib(i) for i in range(10)])"
   ]
  },
  {
   "cell_type": "code",
   "execution_count": 145,
   "metadata": {},
   "outputs": [
    {
     "ename": "ModuleNotFoundError",
     "evalue": "No module named 'fun'",
     "output_type": "error",
     "traceback": [
      "\u001b[1;31m---------------------------------------------------------------------------\u001b[0m",
      "\u001b[1;31mModuleNotFoundError\u001b[0m                       Traceback (most recent call last)",
      "\u001b[1;32mc:\\Users\\Lenovo\\Desktop\\Commented_Python Tutorial.ipynb Cell 198\u001b[0m in \u001b[0;36m<module>\u001b[1;34m\u001b[0m\n\u001b[1;32m----> <a href='vscode-notebook-cell:/c%3A/Users/Lenovo/Desktop/Commented_Python%20Tutorial.ipynb#Y401sZmlsZQ%3D%3D?line=0'>1</a>\u001b[0m \u001b[39mimport\u001b[39;00m \u001b[39mfun\u001b[39;00m \u001b[39mas\u001b[39;00m \u001b[39mfn\u001b[39;00m\n\u001b[0;32m      <a href='vscode-notebook-cell:/c%3A/Users/Lenovo/Desktop/Commented_Python%20Tutorial.ipynb#Y401sZmlsZQ%3D%3D?line=2'>3</a>\u001b[0m \u001b[39mprint\u001b[39m([fn\u001b[39m.\u001b[39mfib(i) \u001b[39mfor\u001b[39;00m i \u001b[39min\u001b[39;00m \u001b[39mrange\u001b[39m(\u001b[39m10\u001b[39m)])\n",
      "\u001b[1;31mModuleNotFoundError\u001b[0m: No module named 'fun'"
     ]
    }
   ],
   "source": [
    "import fun as fn\n",
    "\n",
    "print([fn.fib(i) for i in range(10)])"
   ]
  },
  {
   "cell_type": "code",
   "execution_count": 146,
   "metadata": {},
   "outputs": [
    {
     "ename": "ModuleNotFoundError",
     "evalue": "No module named 'fun'",
     "output_type": "error",
     "traceback": [
      "\u001b[1;31m---------------------------------------------------------------------------\u001b[0m",
      "\u001b[1;31mModuleNotFoundError\u001b[0m                       Traceback (most recent call last)",
      "\u001b[1;32mc:\\Users\\Lenovo\\Desktop\\Commented_Python Tutorial.ipynb Cell 199\u001b[0m in \u001b[0;36m<module>\u001b[1;34m\u001b[0m\n\u001b[1;32m----> <a href='vscode-notebook-cell:/c%3A/Users/Lenovo/Desktop/Commented_Python%20Tutorial.ipynb#Y402sZmlsZQ%3D%3D?line=0'>1</a>\u001b[0m \u001b[39mfrom\u001b[39;00m \u001b[39mfun\u001b[39;00m \u001b[39mimport\u001b[39;00m fib\n\u001b[0;32m      <a href='vscode-notebook-cell:/c%3A/Users/Lenovo/Desktop/Commented_Python%20Tutorial.ipynb#Y402sZmlsZQ%3D%3D?line=2'>3</a>\u001b[0m \u001b[39mprint\u001b[39m([fib(i) \u001b[39mfor\u001b[39;00m i \u001b[39min\u001b[39;00m \u001b[39mrange\u001b[39m(\u001b[39m10\u001b[39m)])\n",
      "\u001b[1;31mModuleNotFoundError\u001b[0m: No module named 'fun'"
     ]
    }
   ],
   "source": [
    "from fun import fib\n",
    "\n",
    "print([fib(i) for i in range(10)])"
   ]
  },
  {
   "cell_type": "code",
   "execution_count": 147,
   "metadata": {},
   "outputs": [
    {
     "ename": "ModuleNotFoundError",
     "evalue": "No module named 'fun'",
     "output_type": "error",
     "traceback": [
      "\u001b[1;31m---------------------------------------------------------------------------\u001b[0m",
      "\u001b[1;31mModuleNotFoundError\u001b[0m                       Traceback (most recent call last)",
      "\u001b[1;32mc:\\Users\\Lenovo\\Desktop\\Commented_Python Tutorial.ipynb Cell 200\u001b[0m in \u001b[0;36m<module>\u001b[1;34m\u001b[0m\n\u001b[1;32m----> <a href='vscode-notebook-cell:/c%3A/Users/Lenovo/Desktop/Commented_Python%20Tutorial.ipynb#Y403sZmlsZQ%3D%3D?line=0'>1</a>\u001b[0m \u001b[39mfrom\u001b[39;00m \u001b[39mfun\u001b[39;00m \u001b[39mimport\u001b[39;00m fib \u001b[39mas\u001b[39;00m fb\n\u001b[0;32m      <a href='vscode-notebook-cell:/c%3A/Users/Lenovo/Desktop/Commented_Python%20Tutorial.ipynb#Y403sZmlsZQ%3D%3D?line=2'>3</a>\u001b[0m \u001b[39mprint\u001b[39m([fb(i) \u001b[39mfor\u001b[39;00m i \u001b[39min\u001b[39;00m \u001b[39mrange\u001b[39m(\u001b[39m10\u001b[39m)])\n",
      "\u001b[1;31mModuleNotFoundError\u001b[0m: No module named 'fun'"
     ]
    }
   ],
   "source": [
    "from fun import fib as fb\n",
    "\n",
    "print([fb(i) for i in range(10)])"
   ]
  },
  {
   "cell_type": "code",
   "execution_count": 148,
   "metadata": {},
   "outputs": [
    {
     "ename": "ModuleNotFoundError",
     "evalue": "No module named 'fun'",
     "output_type": "error",
     "traceback": [
      "\u001b[1;31m---------------------------------------------------------------------------\u001b[0m",
      "\u001b[1;31mModuleNotFoundError\u001b[0m                       Traceback (most recent call last)",
      "\u001b[1;32mc:\\Users\\Lenovo\\Desktop\\Commented_Python Tutorial.ipynb Cell 201\u001b[0m in \u001b[0;36m<module>\u001b[1;34m\u001b[0m\n\u001b[1;32m----> <a href='vscode-notebook-cell:/c%3A/Users/Lenovo/Desktop/Commented_Python%20Tutorial.ipynb#Y404sZmlsZQ%3D%3D?line=0'>1</a>\u001b[0m \u001b[39mfrom\u001b[39;00m \u001b[39mfun\u001b[39;00m \u001b[39mimport\u001b[39;00m fib, fac\n\u001b[0;32m      <a href='vscode-notebook-cell:/c%3A/Users/Lenovo/Desktop/Commented_Python%20Tutorial.ipynb#Y404sZmlsZQ%3D%3D?line=2'>3</a>\u001b[0m \u001b[39mprint\u001b[39m([fac(i) \u001b[39mfor\u001b[39;00m i \u001b[39min\u001b[39;00m \u001b[39mrange\u001b[39m(\u001b[39m10\u001b[39m)])\n",
      "\u001b[1;31mModuleNotFoundError\u001b[0m: No module named 'fun'"
     ]
    }
   ],
   "source": [
    "from fun import fib, fac\n",
    "\n",
    "print([fac(i) for i in range(10)])"
   ]
  },
  {
   "cell_type": "code",
   "execution_count": 149,
   "metadata": {},
   "outputs": [
    {
     "ename": "ModuleNotFoundError",
     "evalue": "No module named 'fun'",
     "output_type": "error",
     "traceback": [
      "\u001b[1;31m---------------------------------------------------------------------------\u001b[0m",
      "\u001b[1;31mModuleNotFoundError\u001b[0m                       Traceback (most recent call last)",
      "\u001b[1;32mc:\\Users\\Lenovo\\Desktop\\Commented_Python Tutorial.ipynb Cell 202\u001b[0m in \u001b[0;36m<module>\u001b[1;34m\u001b[0m\n\u001b[1;32m----> <a href='vscode-notebook-cell:/c%3A/Users/Lenovo/Desktop/Commented_Python%20Tutorial.ipynb#Y405sZmlsZQ%3D%3D?line=0'>1</a>\u001b[0m \u001b[39mfrom\u001b[39;00m \u001b[39mfun\u001b[39;00m \u001b[39mimport\u001b[39;00m \u001b[39m*\u001b[39m\n\u001b[0;32m      <a href='vscode-notebook-cell:/c%3A/Users/Lenovo/Desktop/Commented_Python%20Tutorial.ipynb#Y405sZmlsZQ%3D%3D?line=2'>3</a>\u001b[0m \u001b[39mprint\u001b[39m([fac(i) \u001b[39mfor\u001b[39;00m i \u001b[39min\u001b[39;00m \u001b[39mrange\u001b[39m(\u001b[39m10\u001b[39m)])\n",
      "\u001b[1;31mModuleNotFoundError\u001b[0m: No module named 'fun'"
     ]
    }
   ],
   "source": [
    "from fun import *\n",
    "\n",
    "print([fac(i) for i in range(10)])"
   ]
  },
  {
   "cell_type": "code",
   "execution_count": 150,
   "metadata": {
    "scrolled": true
   },
   "outputs": [
    {
     "ename": "ModuleNotFoundError",
     "evalue": "No module named 'functions'",
     "output_type": "error",
     "traceback": [
      "\u001b[1;31m---------------------------------------------------------------------------\u001b[0m",
      "\u001b[1;31mModuleNotFoundError\u001b[0m                       Traceback (most recent call last)",
      "\u001b[1;32mc:\\Users\\Lenovo\\Desktop\\Commented_Python Tutorial.ipynb Cell 203\u001b[0m in \u001b[0;36m<module>\u001b[1;34m\u001b[0m\n\u001b[1;32m----> <a href='vscode-notebook-cell:/c%3A/Users/Lenovo/Desktop/Commented_Python%20Tutorial.ipynb#Y406sZmlsZQ%3D%3D?line=0'>1</a>\u001b[0m \u001b[39mfrom\u001b[39;00m \u001b[39mfunctions\u001b[39;00m \u001b[39mimport\u001b[39;00m sqrt, log\n\u001b[0;32m      <a href='vscode-notebook-cell:/c%3A/Users/Lenovo/Desktop/Commented_Python%20Tutorial.ipynb#Y406sZmlsZQ%3D%3D?line=2'>3</a>\u001b[0m \u001b[39mprint\u001b[39m([sqrt(i) \u001b[39mfor\u001b[39;00m i \u001b[39min\u001b[39;00m \u001b[39mrange\u001b[39m(\u001b[39m10\u001b[39m)])\n\u001b[0;32m      <a href='vscode-notebook-cell:/c%3A/Users/Lenovo/Desktop/Commented_Python%20Tutorial.ipynb#Y406sZmlsZQ%3D%3D?line=3'>4</a>\u001b[0m \u001b[39mprint\u001b[39m([log(\u001b[39m2\u001b[39m\u001b[39m*\u001b[39m\u001b[39m*\u001b[39mi) \u001b[39mfor\u001b[39;00m i \u001b[39min\u001b[39;00m \u001b[39mrange\u001b[39m(\u001b[39m10\u001b[39m)])\n",
      "\u001b[1;31mModuleNotFoundError\u001b[0m: No module named 'functions'"
     ]
    }
   ],
   "source": [
    "from functions import sqrt, log\n",
    "\n",
    "print([sqrt(i) for i in range(10)])\n",
    "print([log(2**i) for i in range(10)])"
   ]
  },
  {
   "cell_type": "code",
   "execution_count": 151,
   "metadata": {},
   "outputs": [
    {
     "name": "stdout",
     "output_type": "stream",
     "text": [
      "The Zen of Python, by Tim Peters\n",
      "\n",
      "Beautiful is better than ugly.\n",
      "Explicit is better than implicit.\n",
      "Simple is better than complex.\n",
      "Complex is better than complicated.\n",
      "Flat is better than nested.\n",
      "Sparse is better than dense.\n",
      "Readability counts.\n",
      "Special cases aren't special enough to break the rules.\n",
      "Although practicality beats purity.\n",
      "Errors should never pass silently.\n",
      "Unless explicitly silenced.\n",
      "In the face of ambiguity, refuse the temptation to guess.\n",
      "There should be one-- and preferably only one --obvious way to do it.\n",
      "Although that way may not be obvious at first unless you're Dutch.\n",
      "Now is better than never.\n",
      "Although never is often better than *right* now.\n",
      "If the implementation is hard to explain, it's a bad idea.\n",
      "If the implementation is easy to explain, it may be a good idea.\n",
      "Namespaces are one honking great idea -- let's do more of those!\n"
     ]
    }
   ],
   "source": [
    "import this"
   ]
  },
  {
   "cell_type": "markdown",
   "metadata": {},
   "source": [
    "# Search Excercise\n",
    "- Can you write a python file that?\n",
    "    - Execute a part of the code only if called in from the console (via python).\n",
    "    - Execute another part if imported from another python file (or notebook).\n",
    "- **Hint:** search for \\__name__"
   ]
  },
  {
   "cell_type": "markdown",
   "metadata": {},
   "source": [
    "# Read and Write Files"
   ]
  },
  {
   "cell_type": "code",
   "execution_count": 152,
   "metadata": {},
   "outputs": [],
   "source": [
    "f = open('new.txt','w')\n",
    "f.write('hello')\n",
    "f.close() "
   ]
  },
  {
   "cell_type": "code",
   "execution_count": 153,
   "metadata": {},
   "outputs": [
    {
     "name": "stdout",
     "output_type": "stream",
     "text": [
      "hello\n"
     ]
    }
   ],
   "source": [
    "f = open('new.txt','r')\n",
    "s = f.read()\n",
    "f.close()\n",
    "print(s)"
   ]
  },
  {
   "cell_type": "code",
   "execution_count": 154,
   "metadata": {},
   "outputs": [
    {
     "ename": "FileNotFoundError",
     "evalue": "[Errno 2] No such file or directory: 'google-10000-english.txt'",
     "output_type": "error",
     "traceback": [
      "\u001b[1;31m---------------------------------------------------------------------------\u001b[0m",
      "\u001b[1;31mFileNotFoundError\u001b[0m                         Traceback (most recent call last)",
      "\u001b[1;32mc:\\Users\\Lenovo\\Desktop\\Commented_Python Tutorial.ipynb Cell 209\u001b[0m in \u001b[0;36m<module>\u001b[1;34m\u001b[0m\n\u001b[1;32m----> <a href='vscode-notebook-cell:/c%3A/Users/Lenovo/Desktop/Commented_Python%20Tutorial.ipynb#Y415sZmlsZQ%3D%3D?line=0'>1</a>\u001b[0m f \u001b[39m=\u001b[39m \u001b[39mopen\u001b[39;49m(\u001b[39m'\u001b[39;49m\u001b[39mgoogle-10000-english.txt\u001b[39;49m\u001b[39m'\u001b[39;49m,\u001b[39m'\u001b[39;49m\u001b[39mr\u001b[39;49m\u001b[39m'\u001b[39;49m)\n\u001b[0;32m      <a href='vscode-notebook-cell:/c%3A/Users/Lenovo/Desktop/Commented_Python%20Tutorial.ipynb#Y415sZmlsZQ%3D%3D?line=1'>2</a>\u001b[0m words \u001b[39m=\u001b[39m [word\u001b[39m.\u001b[39mstrip() \u001b[39mfor\u001b[39;00m word \u001b[39min\u001b[39;00m f\u001b[39m.\u001b[39mreadlines()]\n\u001b[0;32m      <a href='vscode-notebook-cell:/c%3A/Users/Lenovo/Desktop/Commented_Python%20Tutorial.ipynb#Y415sZmlsZQ%3D%3D?line=2'>3</a>\u001b[0m f\u001b[39m.\u001b[39mclose()\n",
      "\u001b[1;31mFileNotFoundError\u001b[0m: [Errno 2] No such file or directory: 'google-10000-english.txt'"
     ]
    }
   ],
   "source": [
    "f = open('google-10000-english.txt','r')\n",
    "words = [word.strip() for word in f.readlines()]\n",
    "f.close()\n",
    "\n",
    "print(words[:25])"
   ]
  },
  {
   "cell_type": "code",
   "execution_count": 155,
   "metadata": {},
   "outputs": [
    {
     "ename": "FileNotFoundError",
     "evalue": "[Errno 2] No such file or directory: 'google-10000-english.txt'",
     "output_type": "error",
     "traceback": [
      "\u001b[1;31m---------------------------------------------------------------------------\u001b[0m",
      "\u001b[1;31mFileNotFoundError\u001b[0m                         Traceback (most recent call last)",
      "\u001b[1;32mc:\\Users\\Lenovo\\Desktop\\Commented_Python Tutorial.ipynb Cell 210\u001b[0m in \u001b[0;36m<module>\u001b[1;34m\u001b[0m\n\u001b[1;32m----> <a href='vscode-notebook-cell:/c%3A/Users/Lenovo/Desktop/Commented_Python%20Tutorial.ipynb#Y416sZmlsZQ%3D%3D?line=0'>1</a>\u001b[0m \u001b[39mwith\u001b[39;00m \u001b[39mopen\u001b[39;49m(\u001b[39m'\u001b[39;49m\u001b[39mgoogle-10000-english.txt\u001b[39;49m\u001b[39m'\u001b[39;49m,\u001b[39m'\u001b[39;49m\u001b[39mr\u001b[39;49m\u001b[39m'\u001b[39;49m) \u001b[39mas\u001b[39;00m f:\n\u001b[0;32m      <a href='vscode-notebook-cell:/c%3A/Users/Lenovo/Desktop/Commented_Python%20Tutorial.ipynb#Y416sZmlsZQ%3D%3D?line=1'>2</a>\u001b[0m     \u001b[39mfor\u001b[39;00m _ \u001b[39min\u001b[39;00m \u001b[39mrange\u001b[39m(\u001b[39m10\u001b[39m):\n\u001b[0;32m      <a href='vscode-notebook-cell:/c%3A/Users/Lenovo/Desktop/Commented_Python%20Tutorial.ipynb#Y416sZmlsZQ%3D%3D?line=2'>3</a>\u001b[0m         \u001b[39mprint\u001b[39m(f\u001b[39m.\u001b[39mreadline()\u001b[39m.\u001b[39mstrip())\n",
      "\u001b[1;31mFileNotFoundError\u001b[0m: [Errno 2] No such file or directory: 'google-10000-english.txt'"
     ]
    }
   ],
   "source": [
    "with open('google-10000-english.txt','r') as f:\n",
    "    for _ in range(10):\n",
    "        print(f.readline().strip())"
   ]
  },
  {
   "cell_type": "code",
   "execution_count": 156,
   "metadata": {},
   "outputs": [
    {
     "ename": "FileNotFoundError",
     "evalue": "[Errno 2] No such file or directory: 'example.json'",
     "output_type": "error",
     "traceback": [
      "\u001b[1;31m---------------------------------------------------------------------------\u001b[0m",
      "\u001b[1;31mFileNotFoundError\u001b[0m                         Traceback (most recent call last)",
      "\u001b[1;32mc:\\Users\\Lenovo\\Desktop\\Commented_Python Tutorial.ipynb Cell 211\u001b[0m in \u001b[0;36m<module>\u001b[1;34m\u001b[0m\n\u001b[0;32m      <a href='vscode-notebook-cell:/c%3A/Users/Lenovo/Desktop/Commented_Python%20Tutorial.ipynb#Y420sZmlsZQ%3D%3D?line=0'>1</a>\u001b[0m \u001b[39mimport\u001b[39;00m \u001b[39mjson\u001b[39;00m\n\u001b[1;32m----> <a href='vscode-notebook-cell:/c%3A/Users/Lenovo/Desktop/Commented_Python%20Tutorial.ipynb#Y420sZmlsZQ%3D%3D?line=2'>3</a>\u001b[0m data \u001b[39m=\u001b[39m json\u001b[39m.\u001b[39mload(\u001b[39mopen\u001b[39;49m(\u001b[39m'\u001b[39;49m\u001b[39mexample.json\u001b[39;49m\u001b[39m'\u001b[39;49m,\u001b[39m'\u001b[39;49m\u001b[39mr\u001b[39;49m\u001b[39m'\u001b[39;49m))\n\u001b[0;32m      <a href='vscode-notebook-cell:/c%3A/Users/Lenovo/Desktop/Commented_Python%20Tutorial.ipynb#Y420sZmlsZQ%3D%3D?line=4'>5</a>\u001b[0m \u001b[39mprint\u001b[39m(data)\n",
      "\u001b[1;31mFileNotFoundError\u001b[0m: [Errno 2] No such file or directory: 'example.json'"
     ]
    }
   ],
   "source": [
    "import json\n",
    "\n",
    "data = json.load(open('example.json','r'))\n",
    "\n",
    "print(data)"
   ]
  },
  {
   "cell_type": "code",
   "execution_count": 157,
   "metadata": {},
   "outputs": [],
   "source": [
    "data = {'item 1':{'colors':['white', 'red', 'black'], 'price':10}, 'item 2':{'colors':['magenta'], 'price':5}}\n",
    "\n",
    "json.dump(data, open('other.json', 'w'), indent=1)"
   ]
  },
  {
   "cell_type": "code",
   "execution_count": 158,
   "metadata": {},
   "outputs": [
    {
     "name": "stdout",
     "output_type": "stream",
     "text": [
      "{'item 1': {'colors': ['white', 'red', 'black'], 'price': 10}, 'item 2': {'colors': ['magenta'], 'price': 5}}\n",
      "{\n",
      " \"item 1\": {\n",
      "  \"colors\": [\n",
      "   \"white\",\n",
      "   \"red\",\n",
      "   \"black\"\n",
      "  ],\n",
      "  \"price\": 10\n",
      " },\n",
      " \"item 2\": {\n",
      "  \"colors\": [\n",
      "   \"magenta\"\n",
      "  ],\n",
      "  \"price\": 5\n",
      " }\n",
      "}\n"
     ]
    }
   ],
   "source": [
    "print(data)\n",
    "print(json.dumps(data, indent=1))"
   ]
  },
  {
   "cell_type": "markdown",
   "metadata": {},
   "source": [
    "# Classes"
   ]
  },
  {
   "cell_type": "code",
   "execution_count": 159,
   "metadata": {},
   "outputs": [
    {
     "name": "stdout",
     "output_type": "stream",
     "text": [
      "My name is <Unknown>, I am 20 years old\n",
      "My name is Mohamed, I am 50 years old\n"
     ]
    }
   ],
   "source": [
    "class Person:\n",
    "    def __init__(self, name=\"<Unknown>\", age=20):\n",
    "        self.name = name\n",
    "        self.age = age\n",
    "    \n",
    "    def introduce(self):\n",
    "        print(\"My name is %s, I am %i years old\" % (self.name, self.age))\n",
    "    \n",
    "p = Person()\n",
    "p.introduce()\n",
    "p.name = \"Mohamed\"\n",
    "p.age = 50\n",
    "p.introduce()"
   ]
  },
  {
   "cell_type": "code",
   "execution_count": 160,
   "metadata": {},
   "outputs": [
    {
     "name": "stdout",
     "output_type": "stream",
     "text": [
      "1 , 2\n",
      "1 , 2\n"
     ]
    }
   ],
   "source": [
    "class EmptyObject:\n",
    "    def __init__(self):\n",
    "        pass\n",
    "\n",
    "o = EmptyObject()\n",
    "o.x = 1\n",
    "o.y = 2\n",
    "print(o.x, ',', o.y)\n",
    "\n",
    "def display(self):\n",
    "    print(self.x, ',', self.y)\n",
    "\n",
    "EmptyObject.show = display\n",
    "o.show()"
   ]
  },
  {
   "cell_type": "code",
   "execution_count": 161,
   "metadata": {},
   "outputs": [
    {
     "name": "stdout",
     "output_type": "stream",
     "text": [
      "My name is Mohamed, I was born in 1993\n"
     ]
    }
   ],
   "source": [
    "import datetime\n",
    "\n",
    "class Person:\n",
    "    def __init__(self, name=\"<Unknown>\", age=20):\n",
    "        self.name = name\n",
    "        self.age = age\n",
    "    \n",
    "    def getBirthYear(self):\n",
    "        return datetime.date.today().year - self.age\n",
    "    \n",
    "    def introduce(self):\n",
    "        print(\"My name is %s, I was born in %i\" % (self.name, self.getBirthYear()))\n",
    "\n",
    "p = Person(\"Mohamed\", 30)\n",
    "p.introduce()"
   ]
  },
  {
   "cell_type": "code",
   "execution_count": 162,
   "metadata": {},
   "outputs": [
    {
     "name": "stdout",
     "output_type": "stream",
     "text": [
      "My name is Mohamed, I was born in 1993\n",
      "RIP Mohamed\n",
      "My name is Ahmed, I was born in 2003\n"
     ]
    }
   ],
   "source": [
    "import datetime\n",
    "\n",
    "class Person:\n",
    "    def __init__(self, name=\"<Unknown>\", age=20):\n",
    "        self.name = name\n",
    "        self.age = age\n",
    "    \n",
    "    def getBirthYear(self):\n",
    "        return datetime.date.today().year - self.age\n",
    "    \n",
    "    def introduce(self):\n",
    "        print(\"My name is %s, I was born in %i\" % (self.name, self.getBirthYear()))\n",
    "    \n",
    "    def __del__(self):\n",
    "        print(\"RIP\", self.name)\n",
    "\n",
    "p = Person(\"Mohamed\", 30)\n",
    "p.introduce()\n",
    "p = Person(\"Ahmed\", 20)\n",
    "p.introduce()"
   ]
  },
  {
   "cell_type": "code",
   "execution_count": 163,
   "metadata": {},
   "outputs": [
    {
     "name": "stdout",
     "output_type": "stream",
     "text": [
      "RIP Ahmed\n"
     ]
    }
   ],
   "source": [
    "del p"
   ]
  },
  {
   "cell_type": "code",
   "execution_count": 164,
   "metadata": {},
   "outputs": [
    {
     "name": "stdout",
     "output_type": "stream",
     "text": [
      "Deleting p1\n",
      "Deleting p2\n",
      "RIP Mohamed\n"
     ]
    }
   ],
   "source": [
    "p1 = Person(\"Mohamed\", 30)\n",
    "p2 = p1\n",
    "print(\"Deleting p1\")\n",
    "del p1\n",
    "print(\"Deleting p2\")\n",
    "del p2"
   ]
  },
  {
   "cell_type": "code",
   "execution_count": 165,
   "metadata": {},
   "outputs": [
    {
     "name": "stdout",
     "output_type": "stream",
     "text": [
      "My name is Mohamed, I was born in 1993\n",
      "Population = 1\n",
      "RIP Mohamed\n",
      "My name is Ahmed, I was born in 2003\n",
      "Population = 1\n",
      "My name is Samir, I was born in 1983\n",
      "Population = 2\n",
      "RIP Ahmed\n",
      "RIP Samir\n"
     ]
    }
   ],
   "source": [
    "import datetime\n",
    "\n",
    "class Person:\n",
    "    \n",
    "    population = 0\n",
    "    \n",
    "    def __init__(self, name=\"<Unknown>\", age=20):\n",
    "        self.name = name\n",
    "        self.age = age\n",
    "        Person.population += 1\n",
    "    \n",
    "    def getBirthYear(self):\n",
    "        return datetime.date.today().year - self.age\n",
    "    \n",
    "    def introduce(self):\n",
    "        print(\"My name is %s, I was born in %i\" % (self.name, self.getBirthYear()))\n",
    "    \n",
    "    def __del__(self):\n",
    "        print(\"RIP\", self.name)\n",
    "        Person.population -= 1\n",
    "\n",
    "p = Person(\"Mohamed\", 30)\n",
    "p.introduce()\n",
    "print(\"Population =\", Person.population)\n",
    "\n",
    "p = Person(\"Ahmed\", 20)\n",
    "p.introduce()\n",
    "print(\"Population =\", Person.population)\n",
    "\n",
    "p2 = Person(\"Samir\", 40)\n",
    "p2.introduce()\n",
    "print(\"Population =\", Person.population)\n",
    "\n",
    "del p\n",
    "del p2"
   ]
  },
  {
   "cell_type": "markdown",
   "metadata": {},
   "source": [
    "Static methods, are methods that are bound to a class rather than its object. </br>\n",
    " They do not require a class instance creation. So, they are not dependent on the state of the object."
   ]
  },
  {
   "cell_type": "code",
   "execution_count": 166,
   "metadata": {},
   "outputs": [
    {
     "name": "stdout",
     "output_type": "stream",
     "text": [
      "My name is Mohamed, I was born in 1993\n",
      "The are 1 person(s)\n",
      "RIP Mohamed\n",
      "My name is Ahmed, I was born in 2003\n",
      "The are 1 person(s)\n",
      "My name is Samir, I was born in 1983\n",
      "The are 2 person(s)\n",
      "RIP Ahmed\n",
      "RIP Samir\n"
     ]
    }
   ],
   "source": [
    "import datetime\n",
    "\n",
    "class Person:\n",
    "    \n",
    "    population = 0\n",
    "    \n",
    "    def __init__(self, name=\"<Unknown>\", age=20):\n",
    "        self.name = name\n",
    "        self.age = age\n",
    "        Person.population += 1\n",
    "    \n",
    "    def getBirthYear(self):\n",
    "        return datetime.date.today().year - self.age\n",
    "    \n",
    "    def introduce(self):\n",
    "        print(\"My name is %s, I was born in %i\" % (self.name, self.getBirthYear()))\n",
    "    \n",
    "    def __del__(self):\n",
    "        print(\"RIP\", self.name)\n",
    "        Person.population -= 1\n",
    "    \n",
    "    @staticmethod\n",
    "    def displayPopulation():\n",
    "        print(\"The are %i person(s)\" % Person.population)\n",
    "\n",
    "p = Person(\"Mohamed\", 30)\n",
    "p.introduce()\n",
    "Person.displayPopulation()\n",
    "\n",
    "p = Person(\"Ahmed\", 20)\n",
    "p.introduce()\n",
    "Person.displayPopulation()\n",
    "\n",
    "p2 = Person(\"Samir\", 40)\n",
    "p2.introduce()\n",
    "Person.displayPopulation()\n",
    "\n",
    "del p\n",
    "del p2"
   ]
  },
  {
   "cell_type": "code",
   "execution_count": 167,
   "metadata": {},
   "outputs": [
    {
     "name": "stdout",
     "output_type": "stream",
     "text": [
      "Ahmed\n",
      "20\n",
      "0\n",
      "20\n"
     ]
    },
    {
     "ename": "AttributeError",
     "evalue": "can't set attribute 'name'",
     "output_type": "error",
     "traceback": [
      "\u001b[1;31m---------------------------------------------------------------------------\u001b[0m",
      "\u001b[1;31mAttributeError\u001b[0m                            Traceback (most recent call last)",
      "\u001b[1;32mc:\\Users\\Lenovo\\Desktop\\Commented_Python Tutorial.ipynb Cell 224\u001b[0m in \u001b[0;36m<module>\u001b[1;34m\u001b[0m\n\u001b[0;32m     <a href='vscode-notebook-cell:/c%3A/Users/Lenovo/Desktop/Commented_Python%20Tutorial.ipynb#Y436sZmlsZQ%3D%3D?line=23'>24</a>\u001b[0m p1\u001b[39m.\u001b[39mage \u001b[39m=\u001b[39m \u001b[39m20\u001b[39m\n\u001b[0;32m     <a href='vscode-notebook-cell:/c%3A/Users/Lenovo/Desktop/Commented_Python%20Tutorial.ipynb#Y436sZmlsZQ%3D%3D?line=24'>25</a>\u001b[0m \u001b[39mprint\u001b[39m(p1\u001b[39m.\u001b[39mage)\n\u001b[1;32m---> <a href='vscode-notebook-cell:/c%3A/Users/Lenovo/Desktop/Commented_Python%20Tutorial.ipynb#Y436sZmlsZQ%3D%3D?line=25'>26</a>\u001b[0m p1\u001b[39m.\u001b[39mname \u001b[39m=\u001b[39m \u001b[39m\"\u001b[39m\u001b[39mSamir\u001b[39m\u001b[39m\"\u001b[39m\n",
      "\u001b[1;31mAttributeError\u001b[0m: can't set attribute 'name'"
     ]
    }
   ],
   "source": [
    "class Person:\n",
    "    \n",
    "    def __init__(self, name=\"<Unknown>\", age=20):\n",
    "        self.__name = name\n",
    "        self.__age = age if age > 0 else 0 \n",
    "    \n",
    "    @property\n",
    "    def name(self):\n",
    "        return self.__name\n",
    "    \n",
    "    @property\n",
    "    def age(self):\n",
    "        return self.__age\n",
    "    \n",
    "    @age.setter\n",
    "    def age(self, age):\n",
    "        self.__age = age if age > 0 else 0 \n",
    "    \n",
    "p1 = Person(\"Ahmed\")\n",
    "print(p1.name)\n",
    "print(p1.age)\n",
    "p1.age = -10\n",
    "print(p1.age)\n",
    "p1.age = 20\n",
    "print(p1.age)\n",
    "p1.name = \"Samir\""
   ]
  },
  {
   "cell_type": "markdown",
   "metadata": {},
   "source": [
    "# Inheritence"
   ]
  },
  {
   "cell_type": "code",
   "execution_count": 168,
   "metadata": {},
   "outputs": [
    {
     "name": "stdout",
     "output_type": "stream",
     "text": [
      "My name is Mohamed, I was born in 1993\n",
      "My name is Ramy, I was born in 2013, I study at Future Schools\n",
      "My name is Hoda, I was born in 1983, I work at Future Tech Co.\n",
      "\n",
      "is p1 a Person? True\n",
      "is p1 a Student? False\n",
      "is p1 a Employee? False\n",
      "\n",
      "is p2 a Person? True\n",
      "is p2 a Student? True\n",
      "is p2 a Employee? False\n",
      "\n",
      "is p3 a Person? True\n",
      "is p3 a Student? False\n",
      "is p3 a Employee? True\n"
     ]
    }
   ],
   "source": [
    "import datetime\n",
    "\n",
    "class Person:\n",
    "    def __init__(self, name=\"<Unknown>\", age=20):\n",
    "        self.name = name\n",
    "        self.age = age\n",
    "    \n",
    "    def getBirthYear(self):\n",
    "        return datetime.date.today().year - self.age\n",
    "    \n",
    "    def introduce(self):\n",
    "        print(\"My name is %s, I was born in %i\" % (self.name, self.getBirthYear()))\n",
    "\n",
    "class Student(Person):\n",
    "    def __init__(self, name=\"<Unknown>\", age=20, school=\"<Unknown>\"):\n",
    "        super().__init__(name, age)\n",
    "        self.school = school\n",
    "    \n",
    "    def introduce(self):\n",
    "        print(\"My name is %s, I was born in %i, I study at %s\" % (self.name, self.getBirthYear(), self.school))\n",
    "\n",
    "class Employee(Person):\n",
    "    def __init__(self, name=\"<Unknown>\", age=20, company=\"<Unknown>\"):\n",
    "        super().__init__(name, age)\n",
    "        self.company = company\n",
    "    \n",
    "    def introduce(self):\n",
    "        print(\"My name is %s, I was born in %i, I work at %s\" % (self.name, self.getBirthYear(), self.company))\n",
    "\n",
    "p1 = Person(\"Mohamed\", 30)\n",
    "p1.introduce()\n",
    "\n",
    "p2 = Student(\"Ramy\", 10, \"Future Schools\")\n",
    "p2.introduce()\n",
    "\n",
    "p3 = Employee(\"Hoda\", 40, \"Future Tech Co.\")\n",
    "p3.introduce()\n",
    "\n",
    "print()\n",
    "print(\"is p1 a Person?\", isinstance(p1, Person))\n",
    "print(\"is p1 a Student?\", isinstance(p1, Student))\n",
    "print(\"is p1 a Employee?\", isinstance(p1, Employee))\n",
    "\n",
    "print()\n",
    "print(\"is p2 a Person?\", isinstance(p2, Person))\n",
    "print(\"is p2 a Student?\", isinstance(p2, Student))\n",
    "print(\"is p2 a Employee?\", isinstance(p2, Employee))\n",
    "\n",
    "\n",
    "print()\n",
    "print(\"is p3 a Person?\", isinstance(p3, Person))\n",
    "print(\"is p3 a Student?\", isinstance(p3, Student))\n",
    "print(\"is p3 a Employee?\", isinstance(p3, Employee))"
   ]
  },
  {
   "cell_type": "markdown",
   "metadata": {},
   "source": [
    "# Operator Overloading"
   ]
  },
  {
   "cell_type": "code",
   "execution_count": 169,
   "metadata": {},
   "outputs": [
    {
     "name": "stdout",
     "output_type": "stream",
     "text": [
      "(1.100000,2.200000) + (0.900000,0.800000) = (2.000000,3.000000)\n"
     ]
    }
   ],
   "source": [
    "class Vector2:\n",
    "    def __init__(self, x, y):\n",
    "        self.x = x\n",
    "        self.y = y\n",
    "    \n",
    "    def __str__(self):\n",
    "        return \"(%f,%f)\" % (self.x, self.y)\n",
    "    \n",
    "    def __add__(self, other):\n",
    "        return Vector2(self.x + other.x, self.y + other.y)\n",
    "    \n",
    "v1 = Vector2(1.1, 2.2)\n",
    "v2 = Vector2(0.9, 0.8)\n",
    "print(v1, '+', v2, '=', v1+v2)"
   ]
  },
  {
   "cell_type": "code",
   "execution_count": 170,
   "metadata": {},
   "outputs": [
    {
     "name": "stdout",
     "output_type": "stream",
     "text": [
      "(1.100000,2.200000) * (0.900000,0.800000) = (0.990000,1.760000)\n",
      "(1.100000,2.200000) * 10 = (11.000000,22.000000)\n"
     ]
    },
    {
     "ename": "TypeError",
     "evalue": "unsupported operand type(s) for *: 'int' and 'Vector2'",
     "output_type": "error",
     "traceback": [
      "\u001b[1;31m---------------------------------------------------------------------------\u001b[0m",
      "\u001b[1;31mTypeError\u001b[0m                                 Traceback (most recent call last)",
      "\u001b[1;32mc:\\Users\\Lenovo\\Desktop\\Commented_Python Tutorial.ipynb Cell 229\u001b[0m in \u001b[0;36m<module>\u001b[1;34m\u001b[0m\n\u001b[0;32m     <a href='vscode-notebook-cell:/c%3A/Users/Lenovo/Desktop/Commented_Python%20Tutorial.ipynb#Y444sZmlsZQ%3D%3D?line=16'>17</a>\u001b[0m \u001b[39mprint\u001b[39m(v1, \u001b[39m'\u001b[39m\u001b[39m*\u001b[39m\u001b[39m'\u001b[39m, v2, \u001b[39m'\u001b[39m\u001b[39m=\u001b[39m\u001b[39m'\u001b[39m, v1\u001b[39m*\u001b[39mv2)\n\u001b[0;32m     <a href='vscode-notebook-cell:/c%3A/Users/Lenovo/Desktop/Commented_Python%20Tutorial.ipynb#Y444sZmlsZQ%3D%3D?line=17'>18</a>\u001b[0m \u001b[39mprint\u001b[39m(v1, \u001b[39m'\u001b[39m\u001b[39m*\u001b[39m\u001b[39m'\u001b[39m, \u001b[39m10\u001b[39m, \u001b[39m'\u001b[39m\u001b[39m=\u001b[39m\u001b[39m'\u001b[39m, v1\u001b[39m*\u001b[39m\u001b[39m10\u001b[39m)\n\u001b[1;32m---> <a href='vscode-notebook-cell:/c%3A/Users/Lenovo/Desktop/Commented_Python%20Tutorial.ipynb#Y444sZmlsZQ%3D%3D?line=18'>19</a>\u001b[0m \u001b[39mprint\u001b[39m(\u001b[39m10\u001b[39m, \u001b[39m'\u001b[39m\u001b[39m*\u001b[39m\u001b[39m'\u001b[39m, v1, \u001b[39m'\u001b[39m\u001b[39m=\u001b[39m\u001b[39m'\u001b[39m, \u001b[39m10\u001b[39;49m\u001b[39m*\u001b[39;49mv1)\n",
      "\u001b[1;31mTypeError\u001b[0m: unsupported operand type(s) for *: 'int' and 'Vector2'"
     ]
    }
   ],
   "source": [
    "class Vector2:\n",
    "    def __init__(self, x, y):\n",
    "        self.x = x\n",
    "        self.y = y\n",
    "    \n",
    "    def __str__(self):\n",
    "        return \"(%f,%f)\" % (self.x, self.y)\n",
    "    \n",
    "    def __mul__(self, other):\n",
    "        if isinstance(other, Vector2):\n",
    "            return Vector2(self.x * other.x, self.y * other.y)\n",
    "        else:\n",
    "            return Vector2(self.x * other, self.y * other)\n",
    "\n",
    "v1 = Vector2(1.1, 2.2)\n",
    "v2 = Vector2(0.9, 0.8)\n",
    "print(v1, '*', v2, '=', v1*v2)\n",
    "print(v1, '*', 10, '=', v1*10)\n",
    "print(10, '*', v1, '=', 10*v1)"
   ]
  },
  {
   "cell_type": "code",
   "execution_count": 171,
   "metadata": {},
   "outputs": [
    {
     "name": "stdout",
     "output_type": "stream",
     "text": [
      "(1.100000,2.200000) * (0.900000,0.800000) = (0.990000,1.760000)\n",
      "(1.100000,2.200000) * 10 = (11.000000,22.000000)\n",
      "10 * (1.100000,2.200000) = (11.000000,22.000000)\n"
     ]
    }
   ],
   "source": [
    "class Vector2:\n",
    "    def __init__(self, x, y):\n",
    "        self.x = x\n",
    "        self.y = y\n",
    "    \n",
    "    def __str__(self):\n",
    "        return \"(%f,%f)\" % (self.x, self.y)\n",
    "    \n",
    "    def __mul__(self, other):\n",
    "        if isinstance(other, Vector2):\n",
    "            return Vector2(self.x * other.x, self.y * other.y)\n",
    "        else:\n",
    "            return Vector2(self.x * other, self.y * other)\n",
    "    \n",
    "    def __rmul__(self, other):\n",
    "        return self * other\n",
    "\n",
    "v1 = Vector2(1.1, 2.2)\n",
    "v2 = Vector2(0.9, 0.8)\n",
    "print(v1, '*', v2, '=', v1*v2)\n",
    "print(v1, '*', 10, '=', v1*10)\n",
    "print(10, '*', v1, '=', 10*v1)"
   ]
  },
  {
   "cell_type": "markdown",
   "metadata": {},
   "source": [
    "# Exceptions"
   ]
  },
  {
   "cell_type": "code",
   "execution_count": 172,
   "metadata": {},
   "outputs": [
    {
     "name": "stdout",
     "output_type": "stream",
     "text": [
      "An exception was caught\n"
     ]
    }
   ],
   "source": [
    "try:\n",
    "    x = undefined_variable\n",
    "except:\n",
    "    print(\"An exception was caught\")"
   ]
  },
  {
   "cell_type": "code",
   "execution_count": 173,
   "metadata": {},
   "outputs": [
    {
     "name": "stdout",
     "output_type": "stream",
     "text": [
      "5.0\n",
      "No errors happened\n",
      "This will run anyway\n",
      "Can't Divide by Zero\n",
      "This will run anyway\n",
      "unsupported operand type(s) for /: 'str' and 'int'\n",
      "This will run anyway\n"
     ]
    }
   ],
   "source": [
    "def div(x,y):\n",
    "    try:\n",
    "        print(x/y)\n",
    "    except ZeroDivisionError:\n",
    "        print(\"Can't Divide by Zero\")\n",
    "    except Exception as e:\n",
    "        print(e)\n",
    "    else:\n",
    "        print(\"No errors happened\")\n",
    "    finally:\n",
    "        print(\"This will run anyway\")\n",
    "\n",
    "div(10,2)\n",
    "div(10,0)\n",
    "div(\"Hello\",2)"
   ]
  },
  {
   "cell_type": "code",
   "execution_count": 174,
   "metadata": {},
   "outputs": [
    {
     "name": "stdout",
     "output_type": "stream",
     "text": [
      "Sorry, I do positive div only\n",
      "This will run anyway\n"
     ]
    }
   ],
   "source": [
    "def div(x,y):\n",
    "    try:\n",
    "        assert x >= 0, \"Sorry, I do positive div only\"\n",
    "        print(x/y)\n",
    "    except ZeroDivisionError:\n",
    "        print(\"Can't Divide by Zero\")\n",
    "    except Exception as e:\n",
    "        print(e)\n",
    "    else:\n",
    "        print(\"No errors happened\")\n",
    "    finally:\n",
    "        print(\"This will run anyway\")\n",
    "\n",
    "div(-10,2)"
   ]
  },
  {
   "cell_type": "code",
   "execution_count": 175,
   "metadata": {},
   "outputs": [
    {
     "name": "stdout",
     "output_type": "stream",
     "text": [
      "Sorry, I do positive div only\n",
      "This will run anyway\n"
     ]
    }
   ],
   "source": [
    "class CustomException(Exception):\n",
    "    pass\n",
    "\n",
    "def div(x,y):\n",
    "    try:\n",
    "        if x < 0:\n",
    "            raise CustomException()\n",
    "        print(x/y)\n",
    "    except ZeroDivisionError:\n",
    "        print(\"Can't Divide by Zero\")\n",
    "    except CustomException as e:\n",
    "        print(\"Sorry, I do positive div only\")\n",
    "    except Exception as e:\n",
    "        print(e)\n",
    "    else:\n",
    "        print(\"No errors happened\")\n",
    "    finally:\n",
    "        print(\"This will run anyway\")\n",
    "\n",
    "div(-10,2)"
   ]
  },
  {
   "cell_type": "code",
   "execution_count": 176,
   "metadata": {},
   "outputs": [
    {
     "name": "stdout",
     "output_type": "stream",
     "text": [
      "Finally\n",
      "Finally\n",
      "Finally\n",
      "Finally\n",
      "Finally\n"
     ]
    }
   ],
   "source": [
    "for _ in range(5):\n",
    "    try:\n",
    "        continue\n",
    "    finally:\n",
    "        print(\"Finally\")\n",
    "\n",
    "# the same happens with break and return"
   ]
  },
  {
   "cell_type": "markdown",
   "metadata": {},
   "source": [
    "# Generators"
   ]
  },
  {
   "cell_type": "code",
   "execution_count": 177,
   "metadata": {},
   "outputs": [
    {
     "name": "stdout",
     "output_type": "stream",
     "text": [
      "range(0, 10)\n",
      "<range_iterator object at 0x000001CE3501DB30>\n"
     ]
    }
   ],
   "source": [
    "x = range(10)\n",
    "print(x)\n",
    "it = iter(x)\n",
    "print(it)"
   ]
  },
  {
   "cell_type": "code",
   "execution_count": 178,
   "metadata": {
    "scrolled": true
   },
   "outputs": [
    {
     "name": "stdout",
     "output_type": "stream",
     "text": [
      "0\n"
     ]
    }
   ],
   "source": [
    "print(next(it))"
   ]
  },
  {
   "cell_type": "code",
   "execution_count": 179,
   "metadata": {},
   "outputs": [
    {
     "name": "stdout",
     "output_type": "stream",
     "text": [
      "[2, 3, 5, 7, 11, 13, 17, 19, 23]\n",
      "<list_iterator object at 0x000001CE34FE2E30>\n"
     ]
    }
   ],
   "source": [
    "x = [2,3,5,7,11,13,17,19,23]\n",
    "print(x)\n",
    "it = iter(x)\n",
    "print(it)"
   ]
  },
  {
   "cell_type": "code",
   "execution_count": 180,
   "metadata": {
    "scrolled": true
   },
   "outputs": [
    {
     "name": "stdout",
     "output_type": "stream",
     "text": [
      "2\n"
     ]
    }
   ],
   "source": [
    "print(next(it))"
   ]
  },
  {
   "cell_type": "code",
   "execution_count": 181,
   "metadata": {},
   "outputs": [
    {
     "name": "stdout",
     "output_type": "stream",
     "text": [
      "<generator object <genexpr> at 0x000001CE34F8E7A0>\n"
     ]
    }
   ],
   "source": [
    "it = (i*i for i in range(10))\n",
    "print(it)"
   ]
  },
  {
   "cell_type": "code",
   "execution_count": 182,
   "metadata": {
    "scrolled": false
   },
   "outputs": [
    {
     "name": "stdout",
     "output_type": "stream",
     "text": [
      "0\n"
     ]
    }
   ],
   "source": [
    "print(next(it))"
   ]
  },
  {
   "cell_type": "code",
   "execution_count": 183,
   "metadata": {},
   "outputs": [
    {
     "name": "stdout",
     "output_type": "stream",
     "text": [
      "<generator object fibs at 0x000001CE34F8E960>\n"
     ]
    }
   ],
   "source": [
    "def fibs():\n",
    "    a,b = 0,1\n",
    "    yield a\n",
    "    while True:\n",
    "        yield b\n",
    "        a,b = b,a+b\n",
    "\n",
    "it = fibs()\n",
    "print(it)"
   ]
  },
  {
   "cell_type": "code",
   "execution_count": 184,
   "metadata": {
    "scrolled": true
   },
   "outputs": [
    {
     "name": "stdout",
     "output_type": "stream",
     "text": [
      "0\n"
     ]
    }
   ],
   "source": [
    "print(next(it))"
   ]
  },
  {
   "cell_type": "code",
   "execution_count": 185,
   "metadata": {},
   "outputs": [
    {
     "name": "stdout",
     "output_type": "stream",
     "text": [
      "0\n",
      "1\n",
      "1\n",
      "2\n",
      "3\n",
      "5\n",
      "8\n",
      "13\n",
      "21\n",
      "34\n",
      "55\n",
      "89\n",
      "144\n"
     ]
    }
   ],
   "source": [
    "for i in fibs():\n",
    "    print(i)\n",
    "    if i > 100:\n",
    "        break"
   ]
  },
  {
   "cell_type": "code",
   "execution_count": 186,
   "metadata": {},
   "outputs": [
    {
     "name": "stdout",
     "output_type": "stream",
     "text": [
      "[0, 1, 1, 2, 3, 5, 8, 13, 21, 34]\n"
     ]
    }
   ],
   "source": [
    "first_n = lambda it,n: (i for i,j in zip(it, range(n)))\n",
    "print([i for i in first_n(fibs(),10)])"
   ]
  },
  {
   "cell_type": "code",
   "execution_count": 187,
   "metadata": {
    "scrolled": true
   },
   "outputs": [
    {
     "name": "stdout",
     "output_type": "stream",
     "text": [
      "[1, 3, 6, 10, 15, 21, 28, 36, 45]\n"
     ]
    },
    {
     "ename": "TypeError",
     "evalue": "'list' object is not callable",
     "output_type": "error",
     "traceback": [
      "\u001b[1;31m---------------------------------------------------------------------------\u001b[0m",
      "\u001b[1;31mTypeError\u001b[0m                                 Traceback (most recent call last)",
      "\u001b[1;32mc:\\Users\\Lenovo\\Desktop\\Commented_Python Tutorial.ipynb Cell 248\u001b[0m in \u001b[0;36m<module>\u001b[1;34m\u001b[0m\n\u001b[0;32m      <a href='vscode-notebook-cell:/c%3A/Users/Lenovo/Desktop/Commented_Python%20Tutorial.ipynb#Y502sZmlsZQ%3D%3D?line=6'>7</a>\u001b[0m a \u001b[39m=\u001b[39m [\u001b[39m1\u001b[39m,\u001b[39m2\u001b[39m,\u001b[39m3\u001b[39m,\u001b[39m4\u001b[39m,\u001b[39m5\u001b[39m,\u001b[39m6\u001b[39m,\u001b[39m7\u001b[39m,\u001b[39m8\u001b[39m,\u001b[39m9\u001b[39m]\n\u001b[0;32m      <a href='vscode-notebook-cell:/c%3A/Users/Lenovo/Desktop/Commented_Python%20Tutorial.ipynb#Y502sZmlsZQ%3D%3D?line=7'>8</a>\u001b[0m \u001b[39mprint\u001b[39m([i \u001b[39mfor\u001b[39;00m i \u001b[39min\u001b[39;00m cumsum(a)])\n\u001b[1;32m----> <a href='vscode-notebook-cell:/c%3A/Users/Lenovo/Desktop/Commented_Python%20Tutorial.ipynb#Y502sZmlsZQ%3D%3D?line=8'>9</a>\u001b[0m \u001b[39mprint\u001b[39m(\u001b[39mlist\u001b[39;49m(cumsum(a)))\n",
      "\u001b[1;31mTypeError\u001b[0m: 'list' object is not callable"
     ]
    }
   ],
   "source": [
    "def cumsum(it):\n",
    "    s = 0\n",
    "    for i in it:\n",
    "        s += i\n",
    "        yield s\n",
    "\n",
    "a = [1,2,3,4,5,6,7,8,9]\n",
    "print([i for i in cumsum(a)])\n",
    "print(list(cumsum(a)))"
   ]
  },
  {
   "cell_type": "code",
   "execution_count": 188,
   "metadata": {},
   "outputs": [
    {
     "name": "stdout",
     "output_type": "stream",
     "text": [
      "          *          \n",
      "         ***         \n",
      "        *****        \n",
      "       *******       \n",
      "      *********      \n",
      "     ***********     \n",
      "    *************    \n",
      "   ***************   \n",
      "  *****************  \n",
      " ******************* \n"
     ]
    }
   ],
   "source": [
    "class pyramid:\n",
    "    def __init__(self, height, symbol='*', empty=' '):\n",
    "        self.height = height\n",
    "        self.symbol = symbol\n",
    "        self.empty = empty\n",
    "    \n",
    "    def __iter__(self):\n",
    "        for i in range(self.height):\n",
    "            yield self.empty * (self.height - i) + self.symbol * (2*i + 1) + self.empty * (self.height - i)\n",
    "\n",
    "for s in pyramid(10):\n",
    "    print(s)"
   ]
  },
  {
   "cell_type": "markdown",
   "metadata": {},
   "source": [
    "# Decorators"
   ]
  },
  {
   "cell_type": "code",
   "execution_count": null,
   "metadata": {},
   "outputs": [],
   "source": []
  },
  {
   "cell_type": "markdown",
   "metadata": {},
   "source": [
    "Decorators are a very powerful and useful tool in Python since it allows programmers to modify the behaviour of a function or class.</br> Decorators allow us to wrap another function in order to extend the behaviour of the wrapped function, without permanently modifying it.</br> "
   ]
  },
  {
   "cell_type": "code",
   "execution_count": 189,
   "metadata": {},
   "outputs": [
    {
     "name": "stdout",
     "output_type": "stream",
     "text": [
      "16\n",
      "65536\n"
     ]
    }
   ],
   "source": [
    "def run_twice(fn):\n",
    "    return lambda x: fn(fn(x))\n",
    "\n",
    "@run_twice\n",
    "def square(x):\n",
    "    return x*x\n",
    "\n",
    "print(square(2)) \n",
    "print(run_twice(square)(2))"
   ]
  },
  {
   "cell_type": "code",
   "execution_count": 190,
   "metadata": {},
   "outputs": [
    {
     "name": "stdout",
     "output_type": "stream",
     "text": [
      "True\n",
      "False\n",
      "Parameter must be of type <class 'int'>\n"
     ]
    }
   ],
   "source": [
    "def check_type(param_type):\n",
    "    def deco(fn):\n",
    "        def type_checked(x):\n",
    "            if isinstance(x, param_type):\n",
    "                return fn(x)\n",
    "            else:\n",
    "                return \"Parameter must be of type \" + str(param_type)\n",
    "        return type_checked\n",
    "    return deco\n",
    "\n",
    "@check_type(int)\n",
    "def is_prime(x):\n",
    "    return x>1 and not any(x%i==0 for i in range(2,x))\n",
    "\n",
    "print(is_prime(5))\n",
    "print(is_prime(6))\n",
    "print(is_prime(\"hello\"))"
   ]
  },
  {
   "cell_type": "code",
   "execution_count": 191,
   "metadata": {},
   "outputs": [
    {
     "name": "stdout",
     "output_type": "stream",
     "text": [
      "11\n",
      "12\n",
      "13\n"
     ]
    }
   ],
   "source": [
    "def static_vars(**kw):\n",
    "    def deco(fn):\n",
    "        for key, val in kw.items():\n",
    "            setattr(fn, key, val)\n",
    "        return fn\n",
    "    return deco\n",
    "\n",
    "@static_vars(count=10)\n",
    "def counter():\n",
    "    counter.count += 1\n",
    "    return counter.count\n",
    "\n",
    "print(counter())\n",
    "print(counter())\n",
    "print(counter())"
   ]
  },
  {
   "cell_type": "markdown",
   "metadata": {},
   "source": [
    "# Context"
   ]
  },
  {
   "cell_type": "code",
   "execution_count": 192,
   "metadata": {},
   "outputs": [
    {
     "name": "stdout",
     "output_type": "stream",
     "text": [
      "Entering\n",
      "Hello World\n",
      "Exiting\n"
     ]
    }
   ],
   "source": [
    "class Context:\n",
    "    def __enter__(self):\n",
    "        print(\"Entering\")\n",
    "    \n",
    "    def __exit__(self, exc_type, exc_value, traceback):\n",
    "        print(\"Exiting\")\n",
    "\n",
    "with Context():\n",
    "    print(\"Hello World\")"
   ]
  },
  {
   "cell_type": "code",
   "execution_count": 193,
   "metadata": {},
   "outputs": [
    {
     "name": "stdout",
     "output_type": "stream",
     "text": [
      "Start Counting...\n",
      "Hello World\n",
      "Good Bye\n",
      "Real Good Bye\n",
      "Function called 3 time(s)\n"
     ]
    }
   ],
   "source": [
    "class CountedFunction:\n",
    "    def __init__(self, fn):\n",
    "        self.fn = fn\n",
    "        self.count = 0\n",
    "    \n",
    "    def __call__(self, *args, **kwargs):\n",
    "        self.count += 1\n",
    "        return self.fn(*args, **kwargs)\n",
    "    \n",
    "    def __enter__(self):\n",
    "        print(\"Start Counting...\")\n",
    "        self.count = 0\n",
    "        return self\n",
    "    \n",
    "    def __exit__(self, exc_type, exc_value, traceback):\n",
    "        print(f'Function called {self.count} time(s)')\n",
    "\n",
    "with CountedFunction(print) as p:\n",
    "    p(\"Hello World\")\n",
    "    p(\"Good Bye\")\n",
    "    p(\"Real Good Bye\")"
   ]
  },
  {
   "cell_type": "code",
   "execution_count": 194,
   "metadata": {
    "scrolled": true
   },
   "outputs": [
    {
     "ename": "FileNotFoundError",
     "evalue": "[Errno 2] No such file or directory: 'google-10000-english.txt'",
     "output_type": "error",
     "traceback": [
      "\u001b[1;31m---------------------------------------------------------------------------\u001b[0m",
      "\u001b[1;31mFileNotFoundError\u001b[0m                         Traceback (most recent call last)",
      "\u001b[1;32mc:\\Users\\Lenovo\\Desktop\\Commented_Python Tutorial.ipynb Cell 259\u001b[0m in \u001b[0;36m<module>\u001b[1;34m\u001b[0m\n\u001b[1;32m----> <a href='vscode-notebook-cell:/c%3A/Users/Lenovo/Desktop/Commented_Python%20Tutorial.ipynb#Y516sZmlsZQ%3D%3D?line=0'>1</a>\u001b[0m \u001b[39mwith\u001b[39;00m \u001b[39mopen\u001b[39;49m(\u001b[39m'\u001b[39;49m\u001b[39mgoogle-10000-english.txt\u001b[39;49m\u001b[39m'\u001b[39;49m, \u001b[39m'\u001b[39;49m\u001b[39mr\u001b[39;49m\u001b[39m'\u001b[39;49m) \u001b[39mas\u001b[39;00m f:\n\u001b[0;32m      <a href='vscode-notebook-cell:/c%3A/Users/Lenovo/Desktop/Commented_Python%20Tutorial.ipynb#Y516sZmlsZQ%3D%3D?line=1'>2</a>\u001b[0m     \u001b[39mprint\u001b[39m(f\u001b[39m.\u001b[39mreadline())\n",
      "\u001b[1;31mFileNotFoundError\u001b[0m: [Errno 2] No such file or directory: 'google-10000-english.txt'"
     ]
    }
   ],
   "source": [
    "with open('google-10000-english.txt', 'r') as f:\n",
    "    print(f.readline())"
   ]
  },
  {
   "cell_type": "code",
   "execution_count": 195,
   "metadata": {},
   "outputs": [
    {
     "ename": "FileNotFoundError",
     "evalue": "[Errno 2] No such file or directory: 'google-10000-english.txt'",
     "output_type": "error",
     "traceback": [
      "\u001b[1;31m---------------------------------------------------------------------------\u001b[0m",
      "\u001b[1;31mFileNotFoundError\u001b[0m                         Traceback (most recent call last)",
      "\u001b[1;32mc:\\Users\\Lenovo\\Desktop\\Commented_Python Tutorial.ipynb Cell 260\u001b[0m in \u001b[0;36m<module>\u001b[1;34m\u001b[0m\n\u001b[1;32m----> <a href='vscode-notebook-cell:/c%3A/Users/Lenovo/Desktop/Commented_Python%20Tutorial.ipynb#Y520sZmlsZQ%3D%3D?line=0'>1</a>\u001b[0m \u001b[39mwith\u001b[39;00m \u001b[39mopen\u001b[39;49m(\u001b[39m'\u001b[39;49m\u001b[39mgoogle-10000-english.txt\u001b[39;49m\u001b[39m'\u001b[39;49m, \u001b[39m'\u001b[39;49m\u001b[39mr\u001b[39;49m\u001b[39m'\u001b[39;49m) \u001b[39mas\u001b[39;00m f, CountedFunction(f\u001b[39m.\u001b[39mreadline) \u001b[39mas\u001b[39;00m r:\n\u001b[0;32m      <a href='vscode-notebook-cell:/c%3A/Users/Lenovo/Desktop/Commented_Python%20Tutorial.ipynb#Y520sZmlsZQ%3D%3D?line=1'>2</a>\u001b[0m     \u001b[39mfor\u001b[39;00m _ \u001b[39min\u001b[39;00m \u001b[39mrange\u001b[39m(\u001b[39m10\u001b[39m):\n\u001b[0;32m      <a href='vscode-notebook-cell:/c%3A/Users/Lenovo/Desktop/Commented_Python%20Tutorial.ipynb#Y520sZmlsZQ%3D%3D?line=2'>3</a>\u001b[0m         \u001b[39mprint\u001b[39m(r(), end\u001b[39m=\u001b[39m\u001b[39m'\u001b[39m\u001b[39m'\u001b[39m)\n",
      "\u001b[1;31mFileNotFoundError\u001b[0m: [Errno 2] No such file or directory: 'google-10000-english.txt'"
     ]
    }
   ],
   "source": [
    "with open('google-10000-english.txt', 'r') as f, CountedFunction(f.readline) as r:\n",
    "    for _ in range(10):\n",
    "        print(r(), end='')"
   ]
  },
  {
   "cell_type": "code",
   "execution_count": 196,
   "metadata": {},
   "outputs": [
    {
     "name": "stdout",
     "output_type": "stream",
     "text": [
      "[add] start...\n",
      "[add] done in 00:00:00.46.\n"
     ]
    }
   ],
   "source": [
    "import time\n",
    "\n",
    "class Timer():\n",
    "    def __init__(self, msg=\"\"):\n",
    "        self.msg = msg\n",
    "        self.start = 0\n",
    "    \n",
    "    def __enter__(self):\n",
    "        print(f'[{self.msg}] start...')\n",
    "        self.start = time.time()\n",
    "    \n",
    "    def __exit__(self, exc_type, exc_value, traceback):\n",
    "        elapsed = time.time() - self.start\n",
    "        hours, rem = divmod(elapsed, 3600)\n",
    "        minutes, seconds = divmod(rem, 60)\n",
    "        elapsed_str = \"{:0>2}:{:0>2}:{:05.2f}\".format(int(hours),int(minutes),seconds)\n",
    "        print(f'[{self.msg}] done in {elapsed_str}.')\n",
    "\n",
    "with Timer(\"add\"):\n",
    "    for _ in range(10000000):\n",
    "        x = 1+10"
   ]
  },
  {
   "cell_type": "code",
   "execution_count": 197,
   "metadata": {},
   "outputs": [
    {
     "name": "stdout",
     "output_type": "stream",
     "text": [
      "[math] start...\n",
      "[add] start...\n",
      "[add] done in 00:00:00.43.\n",
      "[subtract] start...\n",
      "[subtract] done in 00:00:00.42.\n",
      "[multiply] start...\n",
      "[multiply] done in 00:00:00.41.\n",
      "[divide] start...\n",
      "[divide] done in 00:00:00.42.\n",
      "[math] done in 00:00:01.69.\n"
     ]
    }
   ],
   "source": [
    "with Timer(\"math\"):\n",
    "    with Timer(\"add\"):\n",
    "        for _ in range(10000000):\n",
    "            x = 23+10\n",
    "    with Timer(\"subtract\"):\n",
    "        for _ in range(10000000):\n",
    "            x = 23-10\n",
    "    with Timer(\"multiply\"):\n",
    "        for _ in range(10000000):\n",
    "            x = 23*10\n",
    "    with Timer(\"divide\"):\n",
    "        for _ in range(10000000):\n",
    "            x = 23/10"
   ]
  }
 ],
 "metadata": {
  "kernelspec": {
   "display_name": "Python 3",
   "language": "python",
   "name": "python3"
  },
  "language_info": {
   "codemirror_mode": {
    "name": "ipython",
    "version": 3
   },
   "file_extension": ".py",
   "mimetype": "text/x-python",
   "name": "python",
   "nbconvert_exporter": "python",
   "pygments_lexer": "ipython3",
   "version": "3.10.2"
  }
 },
 "nbformat": 4,
 "nbformat_minor": 2
}
